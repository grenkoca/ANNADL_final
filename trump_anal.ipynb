{
 "cells": [
  {
   "cell_type": "markdown",
   "metadata": {},
   "source": [
    "# Trump Twitter Analysis\n",
    "\n"
   ]
  },
  {
   "cell_type": "code",
   "execution_count": 1,
   "metadata": {},
   "outputs": [],
   "source": [
    "import os\n",
    "import numpy as np\n",
    "import tensorflow as tf\n",
    "import pandas as pd"
   ]
  },
  {
   "cell_type": "code",
   "execution_count": 2,
   "metadata": {},
   "outputs": [],
   "source": [
    "# configs\n",
    "DATAFILE = 'trump_tweets_11_17.json'"
   ]
  },
  {
   "cell_type": "code",
   "execution_count": 3,
   "metadata": {},
   "outputs": [
    {
     "name": "stdout",
     "output_type": "stream",
     "text": [
      "number of rows: 20293\n"
     ]
    }
   ],
   "source": [
    "# read in json file as pd dataframe\n",
    "trump_tweets = pd.read_json(DATAFILE)\n",
    "print('number of rows: %d' % trump_tweets.shape[0])"
   ]
  },
  {
   "cell_type": "code",
   "execution_count": 4,
   "metadata": {},
   "outputs": [
    {
     "name": "stdout",
     "output_type": "stream",
     "text": [
      "True\n"
     ]
    }
   ],
   "source": [
    "# id_str column is unique\n",
    "print(trump_tweets['id_str'].is_unique)\n",
    "\n",
    "# set id_str as unique identifier\n",
    "trump_tweets = trump_tweets.set_index('id_str')"
   ]
  },
  {
   "cell_type": "code",
   "execution_count": 5,
   "metadata": {},
   "outputs": [
    {
     "data": {
      "text/html": [
       "<div>\n",
       "<style scoped>\n",
       "    .dataframe tbody tr th:only-of-type {\n",
       "        vertical-align: middle;\n",
       "    }\n",
       "\n",
       "    .dataframe tbody tr th {\n",
       "        vertical-align: top;\n",
       "    }\n",
       "\n",
       "    .dataframe thead th {\n",
       "        text-align: right;\n",
       "    }\n",
       "</style>\n",
       "<table border=\"1\" class=\"dataframe\">\n",
       "  <thead>\n",
       "    <tr style=\"text-align: right;\">\n",
       "      <th></th>\n",
       "      <th>source</th>\n",
       "      <th>text</th>\n",
       "      <th>created_at</th>\n",
       "      <th>retweet_count</th>\n",
       "      <th>favorite_count</th>\n",
       "      <th>is_retweet</th>\n",
       "    </tr>\n",
       "    <tr>\n",
       "      <th>id_str</th>\n",
       "      <th></th>\n",
       "      <th></th>\n",
       "      <th></th>\n",
       "      <th></th>\n",
       "      <th></th>\n",
       "      <th></th>\n",
       "    </tr>\n",
       "  </thead>\n",
       "  <tbody>\n",
       "    <tr>\n",
       "      <td>1196148537525977088</td>\n",
       "      <td>Twitter for iPhone</td>\n",
       "      <td>.@SteveScalise blew the nasty &amp;amp; obnoxious ...</td>\n",
       "      <td>2019-11-17 19:30:09+00:00</td>\n",
       "      <td>2663</td>\n",
       "      <td>8670</td>\n",
       "      <td>0.0</td>\n",
       "    </tr>\n",
       "    <tr>\n",
       "      <td>1196147508445163520</td>\n",
       "      <td>Twitter for iPhone</td>\n",
       "      <td>.@SteveScalese blew the nasty &amp;amp; obnoxious ...</td>\n",
       "      <td>2019-11-17 19:26:04+00:00</td>\n",
       "      <td>789</td>\n",
       "      <td>2384</td>\n",
       "      <td>0.0</td>\n",
       "    </tr>\n",
       "    <tr>\n",
       "      <td>1196134600227078144</td>\n",
       "      <td>Twitter for iPhone</td>\n",
       "      <td>Thanks Eric! https://t.co/6Ai7bqto3P</td>\n",
       "      <td>2019-11-17 18:34:46+00:00</td>\n",
       "      <td>4349</td>\n",
       "      <td>14897</td>\n",
       "      <td>0.0</td>\n",
       "    </tr>\n",
       "    <tr>\n",
       "      <td>1196134448183566336</td>\n",
       "      <td>Twitter for iPhone</td>\n",
       "      <td>RT @EricTrump: I hope no one who serves our co...</td>\n",
       "      <td>2019-11-17 18:34:10+00:00</td>\n",
       "      <td>16239</td>\n",
       "      <td>0</td>\n",
       "      <td>1.0</td>\n",
       "    </tr>\n",
       "    <tr>\n",
       "      <td>1196134298325266432</td>\n",
       "      <td>Twitter for iPhone</td>\n",
       "      <td>RT @EricTrump: Trump Washington D.C! @TrumpDC ...</td>\n",
       "      <td>2019-11-17 18:33:34+00:00</td>\n",
       "      <td>2505</td>\n",
       "      <td>0</td>\n",
       "      <td>1.0</td>\n",
       "    </tr>\n",
       "  </tbody>\n",
       "</table>\n",
       "</div>"
      ],
      "text/plain": [
       "                                 source  \\\n",
       "id_str                                    \n",
       "1196148537525977088  Twitter for iPhone   \n",
       "1196147508445163520  Twitter for iPhone   \n",
       "1196134600227078144  Twitter for iPhone   \n",
       "1196134448183566336  Twitter for iPhone   \n",
       "1196134298325266432  Twitter for iPhone   \n",
       "\n",
       "                                                                  text  \\\n",
       "id_str                                                                   \n",
       "1196148537525977088  .@SteveScalise blew the nasty &amp; obnoxious ...   \n",
       "1196147508445163520  .@SteveScalese blew the nasty &amp; obnoxious ...   \n",
       "1196134600227078144               Thanks Eric! https://t.co/6Ai7bqto3P   \n",
       "1196134448183566336  RT @EricTrump: I hope no one who serves our co...   \n",
       "1196134298325266432  RT @EricTrump: Trump Washington D.C! @TrumpDC ...   \n",
       "\n",
       "                                   created_at  retweet_count  favorite_count  \\\n",
       "id_str                                                                         \n",
       "1196148537525977088 2019-11-17 19:30:09+00:00           2663            8670   \n",
       "1196147508445163520 2019-11-17 19:26:04+00:00            789            2384   \n",
       "1196134600227078144 2019-11-17 18:34:46+00:00           4349           14897   \n",
       "1196134448183566336 2019-11-17 18:34:10+00:00          16239               0   \n",
       "1196134298325266432 2019-11-17 18:33:34+00:00           2505               0   \n",
       "\n",
       "                     is_retweet  \n",
       "id_str                           \n",
       "1196148537525977088         0.0  \n",
       "1196147508445163520         0.0  \n",
       "1196134600227078144         0.0  \n",
       "1196134448183566336         1.0  \n",
       "1196134298325266432         1.0  "
      ]
     },
     "execution_count": 5,
     "metadata": {},
     "output_type": "execute_result"
    }
   ],
   "source": [
    "trump_tweets.head()"
   ]
  },
  {
   "cell_type": "code",
   "execution_count": 6,
   "metadata": {},
   "outputs": [
    {
     "name": "stdout",
     "output_type": "stream",
     "text": [
      "number of tweets from iPhone + Android:\t18599\n"
     ]
    }
   ],
   "source": [
    "# remove rows that aren't iPhone/Android\n",
    "trump_tweets = trump_tweets[trump_tweets.source.isin(['Twitter for Android', 'Twitter for iPhone'])]\n",
    "print('number of tweets from iPhone + Android:\\t%d' % trump_tweets.shape[0])"
   ]
  },
  {
   "cell_type": "code",
   "execution_count": 7,
   "metadata": {},
   "outputs": [
    {
     "data": {
      "text/html": [
       "<div>\n",
       "<style scoped>\n",
       "    .dataframe tbody tr th:only-of-type {\n",
       "        vertical-align: middle;\n",
       "    }\n",
       "\n",
       "    .dataframe tbody tr th {\n",
       "        vertical-align: top;\n",
       "    }\n",
       "\n",
       "    .dataframe thead th {\n",
       "        text-align: right;\n",
       "    }\n",
       "</style>\n",
       "<table border=\"1\" class=\"dataframe\">\n",
       "  <thead>\n",
       "    <tr style=\"text-align: right;\">\n",
       "      <th></th>\n",
       "      <th>source</th>\n",
       "      <th>text</th>\n",
       "      <th>created_at</th>\n",
       "      <th>retweet_count</th>\n",
       "      <th>favorite_count</th>\n",
       "      <th>is_retweet</th>\n",
       "    </tr>\n",
       "    <tr>\n",
       "      <th>id_str</th>\n",
       "      <th></th>\n",
       "      <th></th>\n",
       "      <th></th>\n",
       "      <th></th>\n",
       "      <th></th>\n",
       "      <th></th>\n",
       "    </tr>\n",
       "  </thead>\n",
       "  <tbody>\n",
       "    <tr>\n",
       "      <td>1196148537525977088</td>\n",
       "      <td>Twitter for iPhone</td>\n",
       "      <td>.@SteveScalise blew the nasty &amp;amp; obnoxious ...</td>\n",
       "      <td>2019-11-17 19:30:09+00:00</td>\n",
       "      <td>2663</td>\n",
       "      <td>8670</td>\n",
       "      <td>0.0</td>\n",
       "    </tr>\n",
       "    <tr>\n",
       "      <td>1196147508445163520</td>\n",
       "      <td>Twitter for iPhone</td>\n",
       "      <td>.@SteveScalese blew the nasty &amp;amp; obnoxious ...</td>\n",
       "      <td>2019-11-17 19:26:04+00:00</td>\n",
       "      <td>789</td>\n",
       "      <td>2384</td>\n",
       "      <td>0.0</td>\n",
       "    </tr>\n",
       "    <tr>\n",
       "      <td>1196134600227078144</td>\n",
       "      <td>Twitter for iPhone</td>\n",
       "      <td>Thanks Eric! https://t.co/6Ai7bqto3P</td>\n",
       "      <td>2019-11-17 18:34:46+00:00</td>\n",
       "      <td>4349</td>\n",
       "      <td>14897</td>\n",
       "      <td>0.0</td>\n",
       "    </tr>\n",
       "    <tr>\n",
       "      <td>1196134448183566336</td>\n",
       "      <td>Twitter for iPhone</td>\n",
       "      <td>RT @EricTrump: I hope no one who serves our co...</td>\n",
       "      <td>2019-11-17 18:34:10+00:00</td>\n",
       "      <td>16239</td>\n",
       "      <td>0</td>\n",
       "      <td>1.0</td>\n",
       "    </tr>\n",
       "    <tr>\n",
       "      <td>1196134298325266432</td>\n",
       "      <td>Twitter for iPhone</td>\n",
       "      <td>RT @EricTrump: Trump Washington D.C! @TrumpDC ...</td>\n",
       "      <td>2019-11-17 18:33:34+00:00</td>\n",
       "      <td>2505</td>\n",
       "      <td>0</td>\n",
       "      <td>1.0</td>\n",
       "    </tr>\n",
       "  </tbody>\n",
       "</table>\n",
       "</div>"
      ],
      "text/plain": [
       "                                 source  \\\n",
       "id_str                                    \n",
       "1196148537525977088  Twitter for iPhone   \n",
       "1196147508445163520  Twitter for iPhone   \n",
       "1196134600227078144  Twitter for iPhone   \n",
       "1196134448183566336  Twitter for iPhone   \n",
       "1196134298325266432  Twitter for iPhone   \n",
       "\n",
       "                                                                  text  \\\n",
       "id_str                                                                   \n",
       "1196148537525977088  .@SteveScalise blew the nasty &amp; obnoxious ...   \n",
       "1196147508445163520  .@SteveScalese blew the nasty &amp; obnoxious ...   \n",
       "1196134600227078144               Thanks Eric! https://t.co/6Ai7bqto3P   \n",
       "1196134448183566336  RT @EricTrump: I hope no one who serves our co...   \n",
       "1196134298325266432  RT @EricTrump: Trump Washington D.C! @TrumpDC ...   \n",
       "\n",
       "                                   created_at  retweet_count  favorite_count  \\\n",
       "id_str                                                                         \n",
       "1196148537525977088 2019-11-17 19:30:09+00:00           2663            8670   \n",
       "1196147508445163520 2019-11-17 19:26:04+00:00            789            2384   \n",
       "1196134600227078144 2019-11-17 18:34:46+00:00           4349           14897   \n",
       "1196134448183566336 2019-11-17 18:34:10+00:00          16239               0   \n",
       "1196134298325266432 2019-11-17 18:33:34+00:00           2505               0   \n",
       "\n",
       "                     is_retweet  \n",
       "id_str                           \n",
       "1196148537525977088         0.0  \n",
       "1196147508445163520         0.0  \n",
       "1196134600227078144         0.0  \n",
       "1196134448183566336         1.0  \n",
       "1196134298325266432         1.0  "
      ]
     },
     "execution_count": 7,
     "metadata": {},
     "output_type": "execute_result"
    }
   ],
   "source": [
    "trump_tweets.head()"
   ]
  },
  {
   "cell_type": "code",
   "execution_count": 8,
   "metadata": {},
   "outputs": [],
   "source": [
    "# extract target array\n",
    "target_array = trump_tweets.pop('source')"
   ]
  },
  {
   "cell_type": "code",
   "execution_count": 9,
   "metadata": {},
   "outputs": [],
   "source": [
    "del trump_tweets['created_at']"
   ]
  },
  {
   "cell_type": "code",
   "execution_count": 10,
   "metadata": {},
   "outputs": [],
   "source": [
    "trump_tweets.text = trump_tweets.text.astype(str)"
   ]
  },
  {
   "cell_type": "code",
   "execution_count": 11,
   "metadata": {},
   "outputs": [
    {
     "data": {
      "text/html": [
       "<div>\n",
       "<style scoped>\n",
       "    .dataframe tbody tr th:only-of-type {\n",
       "        vertical-align: middle;\n",
       "    }\n",
       "\n",
       "    .dataframe tbody tr th {\n",
       "        vertical-align: top;\n",
       "    }\n",
       "\n",
       "    .dataframe thead th {\n",
       "        text-align: right;\n",
       "    }\n",
       "</style>\n",
       "<table border=\"1\" class=\"dataframe\">\n",
       "  <thead>\n",
       "    <tr style=\"text-align: right;\">\n",
       "      <th></th>\n",
       "      <th>text</th>\n",
       "      <th>retweet_count</th>\n",
       "      <th>favorite_count</th>\n",
       "      <th>is_retweet</th>\n",
       "    </tr>\n",
       "    <tr>\n",
       "      <th>id_str</th>\n",
       "      <th></th>\n",
       "      <th></th>\n",
       "      <th></th>\n",
       "      <th></th>\n",
       "    </tr>\n",
       "  </thead>\n",
       "  <tbody>\n",
       "    <tr>\n",
       "      <td>1196148537525977088</td>\n",
       "      <td>.@SteveScalise blew the nasty &amp;amp; obnoxious ...</td>\n",
       "      <td>2663</td>\n",
       "      <td>8670</td>\n",
       "      <td>0.0</td>\n",
       "    </tr>\n",
       "    <tr>\n",
       "      <td>1196147508445163520</td>\n",
       "      <td>.@SteveScalese blew the nasty &amp;amp; obnoxious ...</td>\n",
       "      <td>789</td>\n",
       "      <td>2384</td>\n",
       "      <td>0.0</td>\n",
       "    </tr>\n",
       "    <tr>\n",
       "      <td>1196134600227078144</td>\n",
       "      <td>Thanks Eric! https://t.co/6Ai7bqto3P</td>\n",
       "      <td>4349</td>\n",
       "      <td>14897</td>\n",
       "      <td>0.0</td>\n",
       "    </tr>\n",
       "    <tr>\n",
       "      <td>1196134448183566336</td>\n",
       "      <td>RT @EricTrump: I hope no one who serves our co...</td>\n",
       "      <td>16239</td>\n",
       "      <td>0</td>\n",
       "      <td>1.0</td>\n",
       "    </tr>\n",
       "    <tr>\n",
       "      <td>1196134298325266432</td>\n",
       "      <td>RT @EricTrump: Trump Washington D.C! @TrumpDC ...</td>\n",
       "      <td>2505</td>\n",
       "      <td>0</td>\n",
       "      <td>1.0</td>\n",
       "    </tr>\n",
       "  </tbody>\n",
       "</table>\n",
       "</div>"
      ],
      "text/plain": [
       "                                                                  text  \\\n",
       "id_str                                                                   \n",
       "1196148537525977088  .@SteveScalise blew the nasty &amp; obnoxious ...   \n",
       "1196147508445163520  .@SteveScalese blew the nasty &amp; obnoxious ...   \n",
       "1196134600227078144               Thanks Eric! https://t.co/6Ai7bqto3P   \n",
       "1196134448183566336  RT @EricTrump: I hope no one who serves our co...   \n",
       "1196134298325266432  RT @EricTrump: Trump Washington D.C! @TrumpDC ...   \n",
       "\n",
       "                     retweet_count  favorite_count  is_retweet  \n",
       "id_str                                                          \n",
       "1196148537525977088           2663            8670         0.0  \n",
       "1196147508445163520            789            2384         0.0  \n",
       "1196134600227078144           4349           14897         0.0  \n",
       "1196134448183566336          16239               0         1.0  \n",
       "1196134298325266432           2505               0         1.0  "
      ]
     },
     "execution_count": 11,
     "metadata": {},
     "output_type": "execute_result"
    }
   ],
   "source": [
    "trump_tweets.head()"
   ]
  },
  {
   "cell_type": "code",
   "execution_count": 12,
   "metadata": {},
   "outputs": [],
   "source": [
    "trump_tweets = trump_tweets.text"
   ]
  },
  {
   "cell_type": "code",
   "execution_count": 13,
   "metadata": {},
   "outputs": [
    {
     "data": {
      "text/plain": [
       "id_str\n",
       "1196148537525977088    .@SteveScalise blew the nasty &amp; obnoxious ...\n",
       "1196147508445163520    .@SteveScalese blew the nasty &amp; obnoxious ...\n",
       "1196134600227078144                 Thanks Eric! https://t.co/6Ai7bqto3P\n",
       "1196134448183566336    RT @EricTrump: I hope no one who serves our co...\n",
       "1196134298325266432    RT @EricTrump: Trump Washington D.C! @TrumpDC ...\n",
       "Name: text, dtype: object"
      ]
     },
     "execution_count": 13,
     "metadata": {},
     "output_type": "execute_result"
    }
   ],
   "source": [
    "trump_tweets.head()"
   ]
  },
  {
   "cell_type": "code",
   "execution_count": 14,
   "metadata": {},
   "outputs": [],
   "source": [
    "# import data\n",
    "dataset = tf.data.Dataset.from_tensor_slices((trump_tweets.values, target_array.values))"
   ]
  },
  {
   "cell_type": "code",
   "execution_count": 15,
   "metadata": {},
   "outputs": [],
   "source": [
    "# shuffle\n",
    "train_dataset = dataset.shuffle(len(trump_tweets)).batch(1)"
   ]
  },
  {
   "cell_type": "code",
   "execution_count": 16,
   "metadata": {},
   "outputs": [
    {
     "data": {
      "text/plain": [
       "<BatchDataset shapes: ((None,), (None,)), types: (tf.string, tf.string)>"
      ]
     },
     "execution_count": 16,
     "metadata": {},
     "output_type": "execute_result"
    }
   ],
   "source": [
    "train_dataset"
   ]
  },
  {
   "cell_type": "code",
   "execution_count": null,
   "metadata": {},
   "outputs": [],
   "source": []
  }
 ],
 "metadata": {
  "kernelspec": {
   "display_name": "Python 3",
   "language": "python",
   "name": "python3"
  },
  "language_info": {
   "codemirror_mode": {
    "name": "ipython",
    "version": 3
   },
   "file_extension": ".py",
   "mimetype": "text/x-python",
   "name": "python",
   "nbconvert_exporter": "python",
   "pygments_lexer": "ipython3",
   "version": "3.7.4"
  }
 },
 "nbformat": 4,
 "nbformat_minor": 2
}
