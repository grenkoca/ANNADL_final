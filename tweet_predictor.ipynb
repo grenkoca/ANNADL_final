{
 "cells": [
  {
   "cell_type": "code",
   "execution_count": 92,
   "metadata": {},
   "outputs": [],
   "source": [
    "import numpy as np\n",
    "from numpy import array\n",
    "from numpy import asarray\n",
    "from numpy import zeros\n",
    "\n",
    "import matplotlib.pyplot as plt\n",
    "import string\n",
    "import pandas as pd\n",
    "import gensim\n",
    "from sklearn.model_selection import train_test_split\n",
    "from io import StringIO\n",
    "from keras.models import Sequential\n",
    "from keras.callbacks import ModelCheckpoint, EarlyStopping\n",
    "from keras.preprocessing.text import Tokenizer\n",
    "from keras.preprocessing.sequence import pad_sequences\n",
    "from keras import layers \n",
    "from keras.layers.embeddings import Embedding\n",
    "from keras.layers import Flatten, Conv1D, GlobalMaxPooling1D, LSTM\n",
    "from keras.layers.core import Activation, Dropout, Dense\n",
    "\n",
    "MAX_WORDS = 15000"
   ]
  },
  {
   "cell_type": "code",
   "execution_count": 93,
   "metadata": {},
   "outputs": [
    {
     "data": {
      "text/plain": [
       "'/home/dalbosta/anaconda3/envs/conda_env/lib/python3.7/site-packages/numpy/__init__.py'"
      ]
     },
     "execution_count": 93,
     "metadata": {},
     "output_type": "execute_result"
    }
   ],
   "source": [
    "np.__file__"
   ]
  },
  {
   "cell_type": "markdown",
   "metadata": {},
   "source": [
    "PREPARE LABELS"
   ]
  },
  {
   "cell_type": "code",
   "execution_count": 94,
   "metadata": {},
   "outputs": [],
   "source": [
    "df = pd.read_json(\"trump_tweets_11_17.json\")\n",
    "replacement_dict = {\"Twitter for iPhone\": 1, \"Twitter for Android\": 0}\n",
    "df = df.replace(to_replace=replacement_dict)   # replace labels\n",
    "df = df[df.source.apply(lambda x: type(x) == int)]  # remove tweets from other sources\n",
    "df = df.sample(frac=1)"
   ]
  },
  {
   "cell_type": "markdown",
   "metadata": {},
   "source": [
    "Split into training and testing"
   ]
  },
  {
   "cell_type": "code",
   "execution_count": 95,
   "metadata": {},
   "outputs": [],
   "source": [
    "all_texts = df.sample(frac=1, random_state=0)\n",
    "\n",
    "X_train, X_test, y_train, y_test = train_test_split(\n",
    "    all_texts['text'], \n",
    "    all_texts['source'], \n",
    "    test_size=0.20, \n",
    "    random_state=42)"
   ]
  },
  {
   "cell_type": "markdown",
   "metadata": {},
   "source": [
    "Tokenize Text for Embedding Layer"
   ]
  },
  {
   "cell_type": "code",
   "execution_count": 96,
   "metadata": {},
   "outputs": [],
   "source": [
    "#create word-to-index dictionary\n",
    "tokenizer = Tokenizer(num_words=5000)\n",
    "tokenizer.fit_on_texts(X_train)\n",
    "\n",
    "X_train = tokenizer.texts_to_sequences(X_train)\n",
    "X_test = tokenizer.texts_to_sequences(X_test)\n",
    "\n",
    "\n",
    "dictionary = tokenizer.word_index"
   ]
  },
  {
   "cell_type": "code",
   "execution_count": null,
   "metadata": {},
   "outputs": [],
   "source": []
  },
  {
   "cell_type": "code",
   "execution_count": 97,
   "metadata": {},
   "outputs": [],
   "source": [
    "#length of current dictionary vocab\n",
    "vocab_size = len(tokenizer.word_index) + 1\n",
    "\n",
    "maxlen = 65\n",
    "\n",
    "X_train = pad_sequences(X_train, padding='post', maxlen=maxlen)\n",
    "X_test = pad_sequences(X_test, padding='post', maxlen=maxlen)"
   ]
  },
  {
   "cell_type": "code",
   "execution_count": 126,
   "metadata": {},
   "outputs": [],
   "source": [
    "#construct embeddings using GlOve\n",
    "embeddings_dictionary = dict()\n",
    "\n",
    "#file is too large to store on git, must download and place in folder manually\n",
    "glove_file = open('../glove.6B.100d.txt', encoding=\"utf8\")\n",
    "\n",
    "for line in glove_file:\n",
    "    records = line.split()\n",
    "    word = records[0]\n",
    "    vector_dimensions = asarray(records[1:], dtype='float32')\n",
    "    embeddings_dictionary [word] = vector_dimensions\n",
    "glove_file.close()"
   ]
  },
  {
   "cell_type": "code",
   "execution_count": 99,
   "metadata": {},
   "outputs": [],
   "source": [
    "#create embedding matrix\n",
    "embedding_matrix = zeros((vocab_size, 100))\n",
    "for word, index in tokenizer.word_index.items():\n",
    "    embedding_vector = embeddings_dictionary.get(word)\n",
    "    if embedding_vector is not None:\n",
    "        embedding_matrix[index] = embedding_vector"
   ]
  },
  {
   "cell_type": "code",
   "execution_count": 100,
   "metadata": {},
   "outputs": [
    {
     "data": {
      "text/plain": [
       "True"
      ]
     },
     "execution_count": 100,
     "metadata": {},
     "output_type": "execute_result"
    }
   ],
   "source": [
    "vocab_size == len(embedding_matrix)"
   ]
  },
  {
   "cell_type": "markdown",
   "metadata": {},
   "source": [
    "# Feed Forward Network"
   ]
  },
  {
   "cell_type": "code",
   "execution_count": 101,
   "metadata": {},
   "outputs": [],
   "source": [
    "model = Sequential()\n",
    "embedding_layer = Embedding(vocab_size, 100, weights=[embedding_matrix], input_length=maxlen , trainable=False)\n",
    "model.add(embedding_layer)\n",
    "\n",
    "model.add(Flatten())\n",
    "model.add(Dense(1, activation='sigmoid'))"
   ]
  },
  {
   "cell_type": "code",
   "execution_count": 102,
   "metadata": {},
   "outputs": [
    {
     "name": "stdout",
     "output_type": "stream",
     "text": [
      "Model: \"sequential_12\"\n",
      "_________________________________________________________________\n",
      "Layer (type)                 Output Shape              Param #   \n",
      "=================================================================\n",
      "embedding_12 (Embedding)     (None, 65, 100)           2452400   \n",
      "_________________________________________________________________\n",
      "flatten_3 (Flatten)          (None, 6500)              0         \n",
      "_________________________________________________________________\n",
      "dense_9 (Dense)              (None, 1)                 6501      \n",
      "=================================================================\n",
      "Total params: 2,458,901\n",
      "Trainable params: 6,501\n",
      "Non-trainable params: 2,452,400\n",
      "_________________________________________________________________\n",
      "None\n"
     ]
    }
   ],
   "source": [
    "model.compile(optimizer='adam', loss='binary_crossentropy', metrics=['acc'])\n",
    "\n",
    "print(model.summary())"
   ]
  },
  {
   "cell_type": "code",
   "execution_count": 103,
   "metadata": {
    "scrolled": true
   },
   "outputs": [
    {
     "name": "stdout",
     "output_type": "stream",
     "text": [
      "Train on 11903 samples, validate on 2976 samples\n",
      "Epoch 1/15\n",
      "11903/11903 [==============================] - 0s 32us/step - loss: 0.4050 - acc: 0.8015 - val_loss: 0.3369 - val_acc: 0.8427\n",
      "Epoch 2/15\n",
      "11903/11903 [==============================] - 0s 13us/step - loss: 0.3175 - acc: 0.8461 - val_loss: 0.3097 - val_acc: 0.8518\n",
      "Epoch 3/15\n",
      "11903/11903 [==============================] - 0s 13us/step - loss: 0.2911 - acc: 0.8610 - val_loss: 0.2993 - val_acc: 0.8518\n",
      "Epoch 4/15\n",
      "11903/11903 [==============================] - 0s 13us/step - loss: 0.2749 - acc: 0.8717 - val_loss: 0.2946 - val_acc: 0.8522\n",
      "Epoch 5/15\n",
      "11903/11903 [==============================] - 0s 13us/step - loss: 0.2631 - acc: 0.8799 - val_loss: 0.2932 - val_acc: 0.8528\n",
      "Epoch 6/15\n",
      "11903/11903 [==============================] - 0s 14us/step - loss: 0.2538 - acc: 0.8816 - val_loss: 0.2931 - val_acc: 0.8552\n",
      "Epoch 7/15\n",
      "11903/11903 [==============================] - 0s 13us/step - loss: 0.2468 - acc: 0.8879 - val_loss: 0.2889 - val_acc: 0.8595\n",
      "Epoch 8/15\n",
      "11903/11903 [==============================] - 0s 12us/step - loss: 0.2427 - acc: 0.8909 - val_loss: 0.2985 - val_acc: 0.8485\n",
      "Epoch 9/15\n",
      "11903/11903 [==============================] - 0s 13us/step - loss: 0.2366 - acc: 0.8920 - val_loss: 0.2901 - val_acc: 0.8595\n",
      "Epoch 10/15\n",
      "11903/11903 [==============================] - 0s 13us/step - loss: 0.2320 - acc: 0.8950 - val_loss: 0.2903 - val_acc: 0.8619\n",
      "Epoch 11/15\n",
      "11903/11903 [==============================] - 0s 13us/step - loss: 0.2276 - acc: 0.8984 - val_loss: 0.3027 - val_acc: 0.8478\n",
      "Epoch 12/15\n",
      "11903/11903 [==============================] - 0s 12us/step - loss: 0.2235 - acc: 0.9016 - val_loss: 0.2912 - val_acc: 0.8599\n",
      "Epoch 13/15\n",
      "11903/11903 [==============================] - 0s 13us/step - loss: 0.2194 - acc: 0.9048 - val_loss: 0.2924 - val_acc: 0.8565\n",
      "Epoch 14/15\n",
      "11903/11903 [==============================] - 0s 13us/step - loss: 0.2165 - acc: 0.9054 - val_loss: 0.2944 - val_acc: 0.8616\n",
      "Epoch 15/15\n",
      "11903/11903 [==============================] - 0s 13us/step - loss: 0.2132 - acc: 0.9073 - val_loss: 0.2967 - val_acc: 0.8555\n"
     ]
    }
   ],
   "source": [
    "history = model.fit(X_train, y_train, batch_size=128, epochs=15, verbose=1, validation_split=0.2)"
   ]
  },
  {
   "cell_type": "code",
   "execution_count": 104,
   "metadata": {},
   "outputs": [
    {
     "name": "stdout",
     "output_type": "stream",
     "text": [
      "3720/3720 [==============================] - 0s 28us/step\n"
     ]
    }
   ],
   "source": [
    "score = model.evaluate(X_test, y_test, verbose=1)"
   ]
  },
  {
   "cell_type": "code",
   "execution_count": 105,
   "metadata": {},
   "outputs": [
    {
     "name": "stdout",
     "output_type": "stream",
     "text": [
      "Test Score: 0.3235545777505444\n",
      "Test Accuracy: 0.851344108581543\n"
     ]
    }
   ],
   "source": [
    "print(\"Test Score:\", score[0])\n",
    "print(\"Test Accuracy:\", score[1])"
   ]
  },
  {
   "cell_type": "code",
   "execution_count": 106,
   "metadata": {},
   "outputs": [
    {
     "data": {
      "image/png": "[encoded data removed]",
      "text/plain": [
       "<Figure size 432x288 with 1 Axes>"
      ]
     },
     "metadata": {
      "needs_background": "light"
     },
     "output_type": "display_data"
    },
    {
     "data": {
      "image/png": "[encoded data removed]",
      "text/plain": [
       "<Figure size 432x288 with 1 Axes>"
      ]
     },
     "metadata": {
      "needs_background": "light"
     },
     "output_type": "display_data"
    }
   ],
   "source": [
    "plt.title('model accuracy')\n",
    "plt.ylabel('accuracy')\n",
    "plt.xlabel('epoch')\n",
    "plt.legend(['train','test'], loc='upper left')\n",
    "plt.show()\n",
    "\n",
    "plt.plot(history.history['loss'])\n",
    "plt.plot(history.history['val_loss'])\n",
    "\n",
    "plt.title('model loss')\n",
    "plt.ylabel('loss')\n",
    "plt.xlabel('epoch')\n",
    "plt.legend(['train','test'], loc='upper left')\n",
    "plt.show()"
   ]
  },
  {
   "cell_type": "markdown",
   "metadata": {},
   "source": [
    "# CNN"
   ]
  },
  {
   "cell_type": "code",
   "execution_count": 107,
   "metadata": {},
   "outputs": [],
   "source": [
    "cnn = Sequential()\n",
    "\n",
    "embedding_layer = Embedding(vocab_size, 100, weights=[embedding_matrix], input_length=maxlen , trainable=False)\n",
    "cnn.add(embedding_layer)\n",
    "\n",
    "cnn.add(Conv1D(128, 5, activation='relu'))\n",
    "cnn.add(GlobalMaxPooling1D())\n",
    "cnn.add(Dense(1, activation='sigmoid'))\n",
    "cnn.compile(optimizer='adam', loss='binary_crossentropy', metrics=['acc'])"
   ]
  },
  {
   "cell_type": "code",
   "execution_count": 108,
   "metadata": {},
   "outputs": [
    {
     "name": "stdout",
     "output_type": "stream",
     "text": [
      "Model: \"sequential_13\"\n",
      "_________________________________________________________________\n",
      "Layer (type)                 Output Shape              Param #   \n",
      "=================================================================\n",
      "embedding_13 (Embedding)     (None, 65, 100)           2452400   \n",
      "_________________________________________________________________\n",
      "conv1d_4 (Conv1D)            (None, 61, 128)           64128     \n",
      "_________________________________________________________________\n",
      "global_max_pooling1d_3 (Glob (None, 128)               0         \n",
      "_________________________________________________________________\n",
      "dense_10 (Dense)             (None, 1)                 129       \n",
      "=================================================================\n",
      "Total params: 2,516,657\n",
      "Trainable params: 64,257\n",
      "Non-trainable params: 2,452,400\n",
      "_________________________________________________________________\n",
      "None\n"
     ]
    }
   ],
   "source": [
    "print(cnn.summary())"
   ]
  },
  {
   "cell_type": "code",
   "execution_count": 109,
   "metadata": {
    "scrolled": true
   },
   "outputs": [
    {
     "name": "stdout",
     "output_type": "stream",
     "text": [
      "Train on 11903 samples, validate on 2976 samples\n",
      "Epoch 1/15\n",
      "11903/11903 [==============================] - 1s 63us/step - loss: 0.4040 - acc: 0.8185 - val_loss: 0.3353 - val_acc: 0.8458\n",
      "Epoch 2/15\n",
      "11903/11903 [==============================] - 0s 34us/step - loss: 0.2892 - acc: 0.8747 - val_loss: 0.3112 - val_acc: 0.8642\n",
      "Epoch 3/15\n",
      "11903/11903 [==============================] - 0s 35us/step - loss: 0.2370 - acc: 0.9030 - val_loss: 0.2855 - val_acc: 0.8747\n",
      "Epoch 4/15\n",
      "11903/11903 [==============================] - 0s 34us/step - loss: 0.1992 - acc: 0.9261 - val_loss: 0.2728 - val_acc: 0.8810\n",
      "Epoch 5/15\n",
      "11903/11903 [==============================] - 0s 33us/step - loss: 0.1637 - acc: 0.9456 - val_loss: 0.2768 - val_acc: 0.8790\n",
      "Epoch 6/15\n",
      "11903/11903 [==============================] - 0s 34us/step - loss: 0.1365 - acc: 0.9590 - val_loss: 0.2729 - val_acc: 0.8774\n",
      "Epoch 7/15\n",
      "11903/11903 [==============================] - 0s 35us/step - loss: 0.1115 - acc: 0.9720 - val_loss: 0.2660 - val_acc: 0.8821\n",
      "Epoch 8/15\n",
      "11903/11903 [==============================] - 0s 34us/step - loss: 0.0898 - acc: 0.9824 - val_loss: 0.2630 - val_acc: 0.8847\n",
      "Epoch 9/15\n",
      "11903/11903 [==============================] - 0s 34us/step - loss: 0.0718 - acc: 0.9885 - val_loss: 0.2678 - val_acc: 0.8841\n",
      "Epoch 10/15\n",
      "11903/11903 [==============================] - 0s 34us/step - loss: 0.0610 - acc: 0.9919 - val_loss: 0.2706 - val_acc: 0.8844\n",
      "Epoch 11/15\n",
      "11903/11903 [==============================] - 0s 33us/step - loss: 0.0496 - acc: 0.9945 - val_loss: 0.2714 - val_acc: 0.8864\n",
      "Epoch 12/15\n",
      "11903/11903 [==============================] - 0s 33us/step - loss: 0.0407 - acc: 0.9960 - val_loss: 0.2773 - val_acc: 0.8858\n",
      "Epoch 13/15\n",
      "11903/11903 [==============================] - 0s 33us/step - loss: 0.0344 - acc: 0.9964 - val_loss: 0.2831 - val_acc: 0.8871\n",
      "Epoch 14/15\n",
      "11903/11903 [==============================] - 0s 33us/step - loss: 0.0293 - acc: 0.9970 - val_loss: 0.2879 - val_acc: 0.8821\n",
      "Epoch 15/15\n",
      "11903/11903 [==============================] - 0s 34us/step - loss: 0.0256 - acc: 0.9971 - val_loss: 0.3127 - val_acc: 0.8851\n",
      "3720/3720 [==============================] - 0s 32us/step\n"
     ]
    }
   ],
   "source": [
    "history = cnn.fit(X_train, y_train, batch_size=128, epochs=15, verbose=1, validation_split=0.2)\n",
    "\n",
    "score = cnn.evaluate(X_test, y_test, verbose=1)"
   ]
  },
  {
   "cell_type": "code",
   "execution_count": 110,
   "metadata": {},
   "outputs": [
    {
     "name": "stdout",
     "output_type": "stream",
     "text": [
      "Test Score: 0.3237013157657398\n",
      "Test Accuracy: 0.8892472982406616\n"
     ]
    }
   ],
   "source": [
    "print(\"Test Score:\", score[0])\n",
    "print(\"Test Accuracy:\", score[1])"
   ]
  },
  {
   "cell_type": "code",
   "execution_count": 111,
   "metadata": {},
   "outputs": [
    {
     "data": {
      "image/png": "[encoded data removed]",
      "text/plain": [
       "<Figure size 432x288 with 1 Axes>"
      ]
     },
     "metadata": {
      "needs_background": "light"
     },
     "output_type": "display_data"
    },
    {
     "data": {
      "image/png": "[encoded data removed]",
      "text/plain": [
       "<Figure size 432x288 with 1 Axes>"
      ]
     },
     "metadata": {
      "needs_background": "light"
     },
     "output_type": "display_data"
    }
   ],
   "source": [
    "plt.plot(history.history['acc'])\n",
    "plt.plot(history.history['val_acc'])\n",
    "\n",
    "plt.title('model accuracy')\n",
    "plt.ylabel('accuracy')\n",
    "plt.xlabel('epoch')\n",
    "plt.legend(['train','test'], loc = 'upper left')\n",
    "plt.show()\n",
    "\n",
    "plt.plot(history.history['loss'])\n",
    "plt.plot(history.history['val_loss'])\n",
    "\n",
    "plt.title('model loss')\n",
    "plt.ylabel('loss')\n",
    "plt.xlabel('epoch')\n",
    "plt.legend(['train','test'], loc = 'upper left')\n",
    "plt.show()"
   ]
  },
  {
   "cell_type": "markdown",
   "metadata": {},
   "source": [
    "# LSTM model"
   ]
  },
  {
   "cell_type": "code",
   "execution_count": 112,
   "metadata": {},
   "outputs": [],
   "source": [
    "lstm_model = Sequential()\n",
    "embedding_layer = Embedding(vocab_size, 100, weights=[embedding_matrix], input_length=maxlen , trainable=False)\n",
    "lstm_model.add(embedding_layer)\n",
    "lstm_model.add(LSTM(128))\n",
    "\n",
    "lstm_model.add(Dense(1, activation='sigmoid'))\n",
    "lstm_model.compile(optimizer='adam', loss='binary_crossentropy', metrics=['acc'])"
   ]
  },
  {
   "cell_type": "code",
   "execution_count": 113,
   "metadata": {},
   "outputs": [
    {
     "data": {
      "text/plain": [
       "14269    0\n",
       "16680    0\n",
       "12035    1\n",
       "11677    1\n",
       "18324    0\n",
       "        ..\n",
       "14096    1\n",
       "14729    0\n",
       "17980    0\n",
       "14114    0\n",
       "5544     1\n",
       "Name: source, Length: 14879, dtype: object"
      ]
     },
     "execution_count": 113,
     "metadata": {},
     "output_type": "execute_result"
    }
   ],
   "source": [
    "y_train"
   ]
  },
  {
   "cell_type": "code",
   "execution_count": 114,
   "metadata": {},
   "outputs": [
    {
     "name": "stdout",
     "output_type": "stream",
     "text": [
      "Model: \"sequential_14\"\n",
      "_________________________________________________________________\n",
      "Layer (type)                 Output Shape              Param #   \n",
      "=================================================================\n",
      "embedding_14 (Embedding)     (None, 65, 100)           2452400   \n",
      "_________________________________________________________________\n",
      "lstm_5 (LSTM)                (None, 128)               117248    \n",
      "_________________________________________________________________\n",
      "dense_11 (Dense)             (None, 1)                 129       \n",
      "=================================================================\n",
      "Total params: 2,569,777\n",
      "Trainable params: 117,377\n",
      "Non-trainable params: 2,452,400\n",
      "_________________________________________________________________\n",
      "None\n"
     ]
    }
   ],
   "source": [
    "print(lstm_model.summary())"
   ]
  },
  {
   "cell_type": "code",
   "execution_count": 115,
   "metadata": {
    "scrolled": true
   },
   "outputs": [
    {
     "name": "stdout",
     "output_type": "stream",
     "text": [
      "Train on 11903 samples, validate on 2976 samples\n",
      "Epoch 1/15\n",
      "11903/11903 [==============================] - 5s 443us/step - loss: 0.4656 - acc: 0.7755 - val_loss: 0.3548 - val_acc: 0.8377\n",
      "Epoch 2/15\n",
      "11903/11903 [==============================] - 4s 325us/step - loss: 0.3595 - acc: 0.8225 - val_loss: 0.3143 - val_acc: 0.8427\n",
      "Epoch 3/15\n",
      "11903/11903 [==============================] - 4s 332us/step - loss: 0.3405 - acc: 0.8169 - val_loss: 0.3336 - val_acc: 0.8115\n",
      "Epoch 4/15\n",
      "11903/11903 [==============================] - 4s 337us/step - loss: 0.3151 - acc: 0.8378 - val_loss: 0.2986 - val_acc: 0.8555\n",
      "Epoch 5/15\n",
      "11903/11903 [==============================] - 4s 337us/step - loss: 0.2925 - acc: 0.8595 - val_loss: 0.2850 - val_acc: 0.8609\n",
      "Epoch 6/15\n",
      "11903/11903 [==============================] - 4s 338us/step - loss: 0.2894 - acc: 0.8568 - val_loss: 0.2829 - val_acc: 0.8508\n",
      "Epoch 7/15\n",
      "11903/11903 [==============================] - 4s 358us/step - loss: 0.2767 - acc: 0.8655 - val_loss: 0.2623 - val_acc: 0.8763\n",
      "Epoch 8/15\n",
      "11903/11903 [==============================] - 4s 350us/step - loss: 0.2623 - acc: 0.8784 - val_loss: 0.2665 - val_acc: 0.8760\n",
      "Epoch 9/15\n",
      "11903/11903 [==============================] - 4s 341us/step - loss: 0.2562 - acc: 0.8833 - val_loss: 0.2824 - val_acc: 0.8740\n",
      "Epoch 10/15\n",
      "11903/11903 [==============================] - 4s 345us/step - loss: 0.2499 - acc: 0.8857 - val_loss: 0.2603 - val_acc: 0.8804\n",
      "Epoch 11/15\n",
      "11903/11903 [==============================] - 4s 331us/step - loss: 0.2458 - acc: 0.8889 - val_loss: 0.2664 - val_acc: 0.8723\n",
      "Epoch 12/15\n",
      "11903/11903 [==============================] - 4s 345us/step - loss: 0.2299 - acc: 0.8973 - val_loss: 0.2665 - val_acc: 0.8760\n",
      "Epoch 13/15\n",
      "11903/11903 [==============================] - 4s 341us/step - loss: 0.2224 - acc: 0.9023 - val_loss: 0.2964 - val_acc: 0.8700\n",
      "Epoch 14/15\n",
      "11903/11903 [==============================] - 4s 338us/step - loss: 0.2104 - acc: 0.9098 - val_loss: 0.2566 - val_acc: 0.8740\n",
      "Epoch 15/15\n",
      "11903/11903 [==============================] - 4s 348us/step - loss: 0.2027 - acc: 0.9137 - val_loss: 0.2497 - val_acc: 0.8847\n",
      "3720/3720 [==============================] - 2s 595us/step\n"
     ]
    }
   ],
   "source": [
    "history = lstm_model.fit(X_train, y_train, batch_size=128, epochs=15, verbose=1, validation_split=0.2)\n",
    "\n",
    "score = lstm_model.evaluate(X_test, y_test, verbose=1)"
   ]
  },
  {
   "cell_type": "code",
   "execution_count": 116,
   "metadata": {},
   "outputs": [
    {
     "name": "stdout",
     "output_type": "stream",
     "text": [
      "Test Score: 0.2479386975688319\n",
      "Test Accuracy: 0.8860214948654175\n"
     ]
    }
   ],
   "source": [
    "print(\"Test Score:\", score[0])\n",
    "print(\"Test Accuracy:\", score[1])"
   ]
  },
  {
   "cell_type": "code",
   "execution_count": 117,
   "metadata": {},
   "outputs": [
    {
     "data": {
      "image/png": "[encoded data removed]",
      "text/plain": [
       "<Figure size 432x288 with 1 Axes>"
      ]
     },
     "metadata": {
      "needs_background": "light"
     },
     "output_type": "display_data"
    },
    {
     "data": {
      "image/png": "[encoded data removed]",
      "text/plain": [
       "<Figure size 432x288 with 1 Axes>"
      ]
     },
     "metadata": {
      "needs_background": "light"
     },
     "output_type": "display_data"
    }
   ],
   "source": [
    "plt.plot(history.history['acc'])\n",
    "plt.plot(history.history['val_acc'])\n",
    "\n",
    "plt.title('model accuracy')\n",
    "plt.ylabel('accuracy')\n",
    "plt.xlabel('epoch')\n",
    "plt.legend(['train','test'], loc='upper left')\n",
    "plt.show()\n",
    "\n",
    "plt.plot(history.history['loss'])\n",
    "plt.plot(history.history['val_loss'])\n",
    "\n",
    "plt.title('model loss')\n",
    "plt.ylabel('loss')\n",
    "plt.xlabel('epoch')\n",
    "plt.legend(['train','test'], loc='upper left')\n",
    "plt.show()"
   ]
  },
  {
   "cell_type": "code",
   "execution_count": 121,
   "metadata": {},
   "outputs": [
    {
     "data": {
      "text/plain": [
       "array([0.3353365], dtype=float32)"
      ]
     },
     "execution_count": 121,
     "metadata": {},
     "output_type": "execute_result"
    }
   ],
   "source": [
    "lstm_model.predict(X_test)[2]"
   ]
  },
  {
   "cell_type": "code",
   "execution_count": 124,
   "metadata": {},
   "outputs": [
    {
     "data": {
      "text/plain": [
       "11278    1\n",
       "17501    1\n",
       "10908    1\n",
       "3094     1\n",
       "930      1\n",
       "        ..\n",
       "8082     1\n",
       "6950     1\n",
       "8426     1\n",
       "14928    0\n",
       "15465    0\n",
       "Name: source, Length: 3720, dtype: object"
      ]
     },
     "execution_count": 124,
     "metadata": {},
     "output_type": "execute_result"
    }
   ],
   "source": [
    "y_test"
   ]
  },
  {
   "cell_type": "code",
   "execution_count": null,
   "metadata": {},
   "outputs": [],
   "source": []
  }
 ],
 "metadata": {
  "kernelspec": {
   "display_name": "Python 3",
   "language": "python",
   "name": "python3"
  },
  "language_info": {
   "codemirror_mode": {
    "name": "ipython",
    "version": 3
   },
   "file_extension": ".py",
   "mimetype": "text/x-python",
   "name": "python",
   "nbconvert_exporter": "python",
   "pygments_lexer": "ipython3",
   "version": "3.7.4"
  }
 },
 "nbformat": 4,
 "nbformat_minor": 2
}
