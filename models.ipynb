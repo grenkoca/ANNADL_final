{
 "cells": [
  {
   "cell_type": "markdown",
   "metadata": {},
   "source": [
    "# TRUMP ANAL"
   ]
  },
  {
   "cell_type": "markdown",
   "metadata": {},
   "source": [
    "### TODO:\n",
    "- clean up tokenizing\n",
    "- check out bi-lstm\n",
    "- predict current tweets\n",
    "- individual validation\n",
    "- @potus tweets"
   ]
  },
  {
   "cell_type": "code",
   "execution_count": 1,
   "metadata": {},
   "outputs": [
    {
     "name": "stderr",
     "output_type": "stream",
     "text": [
      "Using TensorFlow backend.\n"
     ]
    }
   ],
   "source": [
    "import numpy as np\n",
    "import pandas as pd\n",
    "import matplotlib.pyplot as plt\n",
    "\n",
    "import os\n",
    "import string\n",
    "import gensim\n",
    "import shutil\n",
    "\n",
    "from io import StringIO\n",
    "from keras import layers \n",
    "from keras.models import Sequential\n",
    "from keras.layers.embeddings import Embedding\n",
    "from keras.preprocessing.text import Tokenizer\n",
    "from sklearn.model_selection import train_test_split\n",
    "from keras.preprocessing.sequence import pad_sequences\n",
    "from keras.layers.core import Activation, Dropout, Dense\n",
    "from keras.callbacks import ModelCheckpoint, EarlyStopping\n",
    "from keras.layers import Flatten, Conv1D, GlobalMaxPooling1D, LSTM, Bidirectional, GRU\n",
    "\n",
    "# load a saved model\n",
    "from keras.models import load_model\n",
    "\n",
    "from keras.callbacks import EarlyStopping, ModelCheckpoint\n",
    "\n",
    "MAX_WORDS = 15000"
   ]
  },
  {
   "cell_type": "markdown",
   "metadata": {},
   "source": [
    "### Merge Embedding Files"
   ]
  },
  {
   "cell_type": "code",
   "execution_count": 2,
   "metadata": {},
   "outputs": [
    {
     "name": "stdout",
     "output_type": "stream",
     "text": [
      "Embedding file already exists!\n",
      "Done!\n"
     ]
    }
   ],
   "source": [
    "if not os.path.exists(\"glove.6B.100d.txt\"):\n",
    "    with open(\"glove.6B.100d.txt\", \"w+\") as output:\n",
    "        for i in range(0,8):\n",
    "            print(\"Writing embeddings_\" + str(i))\n",
    "            with open(\".embeddings/embeddings_\"+str(i)) as part:\n",
    "                output.write(\"\".join(part.readlines()))\n",
    "    shutil.rmtree(\".embeddings/\")\n",
    "    print(\"Embedding file created!\")\n",
    "else:\n",
    "    print(\"Embedding file already exists!\")\n",
    "    \n",
    "print(\"Done!\")"
   ]
  },
  {
   "cell_type": "markdown",
   "metadata": {},
   "source": [
    "### Prepare Labels"
   ]
  },
  {
   "cell_type": "code",
   "execution_count": 3,
   "metadata": {},
   "outputs": [],
   "source": [
    "df = pd.read_json(\"trump_tweets_11_17.json\") # read json\n",
    "replacement_dict = {\"Twitter for iPhone\": 1, \"Twitter for Android\": 0}\n",
    "df = df.replace(to_replace=replacement_dict)   # replace labels with 1s and 0s\n",
    "df = df[df.source.apply(lambda x: type(x) == int)]  # remove tweets from other sources\n",
    "df = df.sample(frac=1)"
   ]
  },
  {
   "cell_type": "markdown",
   "metadata": {},
   "source": [
    "### Split into training and testing"
   ]
  },
  {
   "cell_type": "code",
   "execution_count": 4,
   "metadata": {},
   "outputs": [],
   "source": [
    "all_texts = df.sample(frac=1, random_state=0) # random sampling with reproducibility\n",
    "\n",
    "X_train, X_test, y_train, y_test = train_test_split(\n",
    "    all_texts['text'], \n",
    "    all_texts['source'], \n",
    "    test_size=0.20, \n",
    "    random_state=42)"
   ]
  },
  {
   "cell_type": "markdown",
   "metadata": {},
   "source": [
    "### Data analysis"
   ]
  },
  {
   "cell_type": "code",
   "execution_count": 5,
   "metadata": {},
   "outputs": [
    {
     "data": {
      "image/png": "[encoded data removed]",
      "text/plain": [
       "<Figure size 360x360 with 1 Axes>"
      ]
     },
     "metadata": {
      "needs_background": "light"
     },
     "output_type": "display_data"
    }
   ],
   "source": [
    "def length_vs_label(x,y):\n",
    "    labels = np.unique(y)\n",
    "    avgs = []\n",
    "    for label in labels:\n",
    "        avg = 0\n",
    "        count = 0\n",
    "        for text in x[y==label]:\n",
    "            avg += len(text)\n",
    "            count+=1\n",
    "        avg /= count\n",
    "        avgs.append(avg)\n",
    "    \n",
    "    plt.figure(figsize=(5,5))\n",
    "    bars = plt.bar([str(label) for label in labels], avgs)\n",
    "    bars[0].set_color('#a4c639') # android\n",
    "    bars[1].set_color('#989898') # spacegray\n",
    "    plt.title('Length of tweets by source', fontsize=16)\n",
    "    plt.ylabel('Tweet length', fontsize=14)\n",
    "    plt.xlabel('Source', fontsize=14)\n",
    "    plt.show()\n",
    "    \n",
    "length_vs_label(X_train, y_train) # iPhone tweets longer than Android tweets on average"
   ]
  },
  {
   "cell_type": "code",
   "execution_count": 6,
   "metadata": {},
   "outputs": [
    {
     "data": {
      "image/png": "[encoded data removed]",
      "text/plain": [
       "<Figure size 360x360 with 1 Axes>"
      ]
     },
     "metadata": {
      "needs_background": "light"
     },
     "output_type": "display_data"
    }
   ],
   "source": [
    "def label_counts(y):\n",
    "    unique = np.unique(y_train, return_counts=True)\n",
    "    \n",
    "    plt.figure(figsize=(5,5))\n",
    "    bars = plt.bar([str(u) for u in unique[0]], unique[1])\n",
    "    bars[0].set_color('#a4c639') # android\n",
    "    bars[1].set_color('#989898') # spacegray\n",
    "    plt.title('Label counts', fontsize=16)\n",
    "    plt.ylabel('Count', fontsize=14)\n",
    "    plt.xlabel('Source', fontsize=14)\n",
    "    plt.show()\n",
    "    \n",
    "label_counts(y_train) # more iPhone tweets than Android"
   ]
  },
  {
   "cell_type": "markdown",
   "metadata": {},
   "source": [
    "### Tokenize Text for Embedding Layer"
   ]
  },
  {
   "cell_type": "code",
   "execution_count": 7,
   "metadata": {},
   "outputs": [],
   "source": [
    "#create word-to-index dictionary\n",
    "tokenizer = Tokenizer(num_words=5000)\n",
    "tokenizer.fit_on_texts(X_train)\n",
    "\n",
    "# convert text to sequences\n",
    "X_train = tokenizer.texts_to_sequences(X_train)\n",
    "X_test = tokenizer.texts_to_sequences(X_test)\n",
    "\n",
    "# tokenizer dictionary\n",
    "dictionary = tokenizer.word_index"
   ]
  },
  {
   "cell_type": "code",
   "execution_count": 8,
   "metadata": {},
   "outputs": [],
   "source": [
    "#length of current dictionary vocab\n",
    "vocab_size = len(tokenizer.word_index) + 1\n",
    "\n",
    "maxlen = 65\n",
    "\n",
    "X_train = pad_sequences(X_train, padding='post', maxlen=maxlen)\n",
    "X_test = pad_sequences(X_test, padding='post', maxlen=maxlen)"
   ]
  },
  {
   "cell_type": "markdown",
   "metadata": {},
   "source": [
    "### construct embeddings using a glove model"
   ]
  },
  {
   "cell_type": "code",
   "execution_count": 9,
   "metadata": {},
   "outputs": [],
   "source": [
    "embeddings_dictionary = dict()\n",
    "\n",
    "#file is too large to store on git, must download and place in folder manually\n",
    "glove_file = open('./glove.6B.100d.txt', encoding=\"utf8\")\n",
    "\n",
    "for line in glove_file:\n",
    "    records = line.split()\n",
    "    word = records[0]\n",
    "    vector_dimensions = np.asarray(records[1:], dtype='float32')\n",
    "    embeddings_dictionary [word] = vector_dimensions\n",
    "glove_file.close()"
   ]
  },
  {
   "cell_type": "code",
   "execution_count": 10,
   "metadata": {},
   "outputs": [],
   "source": [
    "#create embedding matrix\n",
    "embedding_matrix = np.zeros((vocab_size, 100))\n",
    "for word, index in tokenizer.word_index.items():\n",
    "    embedding_vector = embeddings_dictionary.get(word)\n",
    "    if embedding_vector is not None:\n",
    "        embedding_matrix[index] = embedding_vector"
   ]
  },
  {
   "cell_type": "code",
   "execution_count": 11,
   "metadata": {
    "scrolled": true
   },
   "outputs": [
    {
     "data": {
      "text/plain": [
       "True"
      ]
     },
     "execution_count": 11,
     "metadata": {},
     "output_type": "execute_result"
    }
   ],
   "source": [
    "vocab_size == len(embedding_matrix)"
   ]
  },
  {
   "cell_type": "markdown",
   "metadata": {},
   "source": [
    "### BALANCING"
   ]
  },
  {
   "cell_type": "code",
   "execution_count": 16,
   "metadata": {},
   "outputs": [],
   "source": [
    "from keras.utils import to_categorical\n",
    "from imblearn.keras import balanced_batch_generator\n",
    "from imblearn.under_sampling import NearMiss"
   ]
  },
  {
   "cell_type": "code",
   "execution_count": 17,
   "metadata": {},
   "outputs": [],
   "source": [
    "y_train_balance = to_categorical(y_train, num_classes=2)\n",
    "y_test_balance = to_categorical(y_test, num_classes=2)"
   ]
  },
  {
   "cell_type": "markdown",
   "metadata": {},
   "source": [
    "# Feed Forward Network"
   ]
  },
  {
   "cell_type": "code",
   "execution_count": 12,
   "metadata": {},
   "outputs": [],
   "source": [
    "model = Sequential()\n",
    "embedding_layer = Embedding(vocab_size, 100, weights=[embedding_matrix], input_length=maxlen , trainable=False)\n",
    "model.add(embedding_layer)\n",
    "\n",
    "model.add(Flatten())\n",
    "model.add(Dense(1, activation='sigmoid'))"
   ]
  },
  {
   "cell_type": "code",
   "execution_count": 13,
   "metadata": {},
   "outputs": [
    {
     "name": "stdout",
     "output_type": "stream",
     "text": [
      "Model: \"sequential_1\"\n",
      "_________________________________________________________________\n",
      "Layer (type)                 Output Shape              Param #   \n",
      "=================================================================\n",
      "embedding_1 (Embedding)      (None, 65, 100)           2441300   \n",
      "_________________________________________________________________\n",
      "flatten_1 (Flatten)          (None, 6500)              0         \n",
      "_________________________________________________________________\n",
      "dense_1 (Dense)              (None, 1)                 6501      \n",
      "=================================================================\n",
      "Total params: 2,447,801\n",
      "Trainable params: 6,501\n",
      "Non-trainable params: 2,441,300\n",
      "_________________________________________________________________\n",
      "None\n"
     ]
    }
   ],
   "source": [
    "model.compile(optimizer='adam', loss='binary_crossentropy', metrics=['acc'])\n",
    "\n",
    "print(model.summary())"
   ]
  },
  {
   "cell_type": "code",
   "execution_count": 14,
   "metadata": {
    "scrolled": true
   },
   "outputs": [
    {
     "name": "stdout",
     "output_type": "stream",
     "text": [
      "Epoch 00057: early stopping\n"
     ]
    }
   ],
   "source": [
    "es = EarlyStopping(monitor='val_loss', mode='min', verbose=1, patience=50)\n",
    "mc = ModelCheckpoint('./models/best_ffn.h5', monitor='val_acc', verbose=1, mode='max',  save_best_only=True)\n",
    "\n",
    "ffn_history = model.fit(X_train, y_train, \n",
    "                        batch_size=128, \n",
    "                        epochs=1000, \n",
    "                        verbose=0, \n",
    "                        validation_split=0.2,\n",
    "                        callbacks = [es])"
   ]
  },
  {
   "cell_type": "code",
   "execution_count": 15,
   "metadata": {},
   "outputs": [
    {
     "name": "stdout",
     "output_type": "stream",
     "text": [
      "3720/3720 [==============================] - 0s 34us/step\n"
     ]
    },
    {
     "data": {
      "text/plain": [
       "[0.37758335336562127, 0.8037634491920471]"
      ]
     },
     "execution_count": 15,
     "metadata": {},
     "output_type": "execute_result"
    }
   ],
   "source": [
    "model = load_model('./models/best_ffn.h5')\n",
    "model.evaluate(X_test, y_test, verbose=1)"
   ]
  },
  {
   "cell_type": "code",
   "execution_count": 18,
   "metadata": {},
   "outputs": [],
   "source": [
    "model_balance = Sequential()\n",
    "embedding_layer = Embedding(vocab_size, 100, weights=[embedding_matrix], input_length=maxlen , trainable=False)\n",
    "model_balance.add(embedding_layer)\n",
    "\n",
    "model_balance.add(Flatten())\n",
    "model_balance.add(Dense(2, activation='sigmoid'))"
   ]
  },
  {
   "cell_type": "code",
   "execution_count": 19,
   "metadata": {
    "scrolled": true
   },
   "outputs": [
    {
     "name": "stdout",
     "output_type": "stream",
     "text": [
      "Model: \"sequential_2\"\n",
      "_________________________________________________________________\n",
      "Layer (type)                 Output Shape              Param #   \n",
      "=================================================================\n",
      "embedding_2 (Embedding)      (None, 65, 100)           2441300   \n",
      "_________________________________________________________________\n",
      "flatten_2 (Flatten)          (None, 6500)              0         \n",
      "_________________________________________________________________\n",
      "dense_2 (Dense)              (None, 2)                 13002     \n",
      "=================================================================\n",
      "Total params: 2,454,302\n",
      "Trainable params: 13,002\n",
      "Non-trainable params: 2,441,300\n",
      "_________________________________________________________________\n",
      "None\n"
     ]
    }
   ],
   "source": [
    "model_balance.compile(optimizer='adam', loss='binary_crossentropy', metrics=['acc'])\n",
    "\n",
    "print(model_balance.summary())"
   ]
  },
  {
   "cell_type": "code",
   "execution_count": 20,
   "metadata": {},
   "outputs": [],
   "source": [
    "training_generator, steps_per_epoch = balanced_batch_generator(X_train, y_train_balance, \n",
    "                                                               sampler=NearMiss(),\n",
    "                                                               batch_size=128, \n",
    "                                                               random_state=42)"
   ]
  },
  {
   "cell_type": "code",
   "execution_count": 21,
   "metadata": {
    "scrolled": true
   },
   "outputs": [
    {
     "name": "stdout",
     "output_type": "stream",
     "text": [
      "Epoch 00056: early stopping\n"
     ]
    }
   ],
   "source": [
    "es = EarlyStopping(monitor='val_loss', mode='min', verbose=1, patience=50)\n",
    "mc = ModelCheckpoint('./models/best_ffnb.h5', monitor='val_acc', verbose=1, mode='max',  save_best_only=True)\n",
    "\n",
    "balanced_history_ffn = model_balance.fit_generator(generator=training_generator, \n",
    "                                                   steps_per_epoch=steps_per_epoch, \n",
    "                                                   epochs=1000, \n",
    "                                                   verbose=0, \n",
    "                                                   validation_data=(X_test, y_test_balance),\n",
    "                                                   callbacks=[es])"
   ]
  },
  {
   "cell_type": "code",
   "execution_count": 22,
   "metadata": {},
   "outputs": [
    {
     "name": "stdout",
     "output_type": "stream",
     "text": [
      "3720/3720 [==============================] - 0s 39us/step\n"
     ]
    },
    {
     "data": {
      "text/plain": [
       "[0.4719137331490876, 0.7909946441650391]"
      ]
     },
     "execution_count": 22,
     "metadata": {},
     "output_type": "execute_result"
    }
   ],
   "source": [
    "model_balance = load_model('./models/best_ffnb.h5')\n",
    "model_balance.evaluate(X_test, y_test_balance)"
   ]
  },
  {
   "cell_type": "code",
   "execution_count": 23,
   "metadata": {},
   "outputs": [
    {
     "data": {
      "image/png": "[encoded data removed]",
      "text/plain": [
       "<Figure size 1440x1080 with 1 Axes>"
      ]
     },
     "metadata": {
      "needs_background": "light"
     },
     "output_type": "display_data"
    }
   ],
   "source": [
    "plt.figure(figsize=(20,15))\n",
    "plt.plot(balanced_history_ffn.history['acc'])\n",
    "plt.plot(balanced_history_ffn.history['val_acc'])\n",
    "plt.plot(balanced_history_ffn.history['loss'])\n",
    "plt.plot(balanced_history_ffn.history['val_loss'])\n",
    "plt.legend(['acc','val_acc','loss','val_loss'])\n",
    "plt.show()"
   ]
  },
  {
   "cell_type": "code",
   "execution_count": 24,
   "metadata": {},
   "outputs": [
    {
     "data": {
      "image/png": "[encoded data removed]",
      "text/plain": [
       "<Figure size 1080x720 with 2 Axes>"
      ]
     },
     "metadata": {
      "needs_background": "light"
     },
     "output_type": "display_data"
    }
   ],
   "source": [
    "# plots\n",
    "plt.figure(figsize=(15,10))\n",
    "plt.subplot(2,1,1)\n",
    "plt.plot(ffn_history.history['acc'])\n",
    "plt.plot(ffn_history.history['val_acc'])\n",
    "plt.title('Feed forward model accuracy')\n",
    "plt.ylabel('Accuracy')\n",
    "plt.xlabel('Epoch')\n",
    "plt.legend(['train','validation'], loc='upper left')\n",
    "\n",
    "plt.subplot(2,1,2)\n",
    "plt.plot(ffn_history.history['loss'])\n",
    "plt.plot(ffn_history.history['val_loss'])\n",
    "plt.title('Feed forward model loss')\n",
    "plt.ylabel('Loss')\n",
    "plt.xlabel('Epoch')\n",
    "plt.legend(['train','validation'], loc='upper right')\n",
    "plt.show()"
   ]
  },
  {
   "cell_type": "markdown",
   "metadata": {},
   "source": [
    "# CNN"
   ]
  },
  {
   "cell_type": "code",
   "execution_count": 48,
   "metadata": {},
   "outputs": [],
   "source": [
    "cnn = Sequential()\n",
    "\n",
    "embedding_layer = Embedding(vocab_size, 100, weights=[embedding_matrix], input_length=maxlen , trainable=False)\n",
    "cnn.add(embedding_layer)\n",
    "\n",
    "cnn.add(Conv1D(128, 5, activation='relu'))\n",
    "cnn.add(GlobalMaxPooling1D())\n",
    "\n",
    "#add a vanilla hidden layer:\n",
    "cnn.add(Dense(128))\n",
    "cnn.add(Activation('relu'))\n",
    "\n",
    "\n",
    "cnn.add(Dense(1, activation='sigmoid'))\n",
    "cnn.compile(optimizer='adam', loss='binary_crossentropy', metrics=['acc'])"
   ]
  },
  {
   "cell_type": "code",
   "execution_count": 49,
   "metadata": {},
   "outputs": [
    {
     "name": "stdout",
     "output_type": "stream",
     "text": [
      "Model: \"sequential_8\"\n",
      "_________________________________________________________________\n",
      "Layer (type)                 Output Shape              Param #   \n",
      "=================================================================\n",
      "embedding_8 (Embedding)      (None, 65, 100)           2441300   \n",
      "_________________________________________________________________\n",
      "conv1d_4 (Conv1D)            (None, 61, 128)           64128     \n",
      "_________________________________________________________________\n",
      "global_max_pooling1d_4 (Glob (None, 128)               0         \n",
      "_________________________________________________________________\n",
      "dense_15 (Dense)             (None, 128)               16512     \n",
      "_________________________________________________________________\n",
      "activation_6 (Activation)    (None, 128)               0         \n",
      "_________________________________________________________________\n",
      "dense_16 (Dense)             (None, 1)                 129       \n",
      "=================================================================\n",
      "Total params: 2,522,069\n",
      "Trainable params: 80,769\n",
      "Non-trainable params: 2,441,300\n",
      "_________________________________________________________________\n",
      "None\n"
     ]
    }
   ],
   "source": [
    "print(cnn.summary())"
   ]
  },
  {
   "cell_type": "code",
   "execution_count": 50,
   "metadata": {},
   "outputs": [],
   "source": [
    "cnn = load_model('./models/best_cnn.h5')"
   ]
  },
  {
   "cell_type": "code",
   "execution_count": 51,
   "metadata": {
    "scrolled": true
   },
   "outputs": [
    {
     "name": "stdout",
     "output_type": "stream",
     "text": [
      "\n",
      "Epoch 00001: val_acc improved from -inf to 0.82823, saving model to ./models/best_cnn.h5\n",
      "\n",
      "Epoch 00002: val_acc did not improve from 0.82823\n",
      "\n",
      "Epoch 00003: val_acc improved from 0.82823 to 0.82903, saving model to ./models/best_cnn.h5\n",
      "\n",
      "Epoch 00004: val_acc improved from 0.82903 to 0.84785, saving model to ./models/best_cnn.h5\n",
      "\n",
      "Epoch 00005: val_acc did not improve from 0.84785\n",
      "\n",
      "Epoch 00006: val_acc did not improve from 0.84785\n",
      "\n",
      "Epoch 00007: val_acc did not improve from 0.84785\n",
      "\n",
      "Epoch 00008: val_acc did not improve from 0.84785\n",
      "\n",
      "Epoch 00009: val_acc improved from 0.84785 to 0.84866, saving model to ./models/best_cnn.h5\n",
      "\n",
      "Epoch 00010: val_acc did not improve from 0.84866\n",
      "\n",
      "Epoch 00011: val_acc did not improve from 0.84866\n",
      "\n",
      "Epoch 00012: val_acc did not improve from 0.84866\n",
      "\n",
      "Epoch 00013: val_acc improved from 0.84866 to 0.85215, saving model to ./models/best_cnn.h5\n",
      "\n",
      "Epoch 00014: val_acc improved from 0.85215 to 0.85242, saving model to ./models/best_cnn.h5\n",
      "\n",
      "Epoch 00015: val_acc improved from 0.85242 to 0.85269, saving model to ./models/best_cnn.h5\n",
      "\n",
      "Epoch 00016: val_acc improved from 0.85269 to 0.85403, saving model to ./models/best_cnn.h5\n",
      "\n",
      "Epoch 00017: val_acc did not improve from 0.85403\n",
      "\n",
      "Epoch 00018: val_acc did not improve from 0.85403\n",
      "\n",
      "Epoch 00019: val_acc improved from 0.85403 to 0.85699, saving model to ./models/best_cnn.h5\n",
      "\n",
      "Epoch 00020: val_acc did not improve from 0.85699\n",
      "\n",
      "Epoch 00021: val_acc did not improve from 0.85699\n",
      "\n",
      "Epoch 00022: val_acc did not improve from 0.85699\n",
      "\n",
      "Epoch 00023: val_acc did not improve from 0.85699\n",
      "\n",
      "Epoch 00024: val_acc did not improve from 0.85699\n",
      "\n",
      "Epoch 00025: val_acc improved from 0.85699 to 0.85968, saving model to ./models/best_cnn.h5\n",
      "\n",
      "Epoch 00026: val_acc did not improve from 0.85968\n",
      "\n",
      "Epoch 00027: val_acc did not improve from 0.85968\n",
      "\n",
      "Epoch 00028: val_acc did not improve from 0.85968\n",
      "\n",
      "Epoch 00029: val_acc did not improve from 0.85968\n",
      "\n",
      "Epoch 00030: val_acc did not improve from 0.85968\n",
      "\n",
      "Epoch 00031: val_acc did not improve from 0.85968\n",
      "\n",
      "Epoch 00032: val_acc did not improve from 0.85968\n",
      "\n",
      "Epoch 00033: val_acc did not improve from 0.85968\n",
      "\n",
      "Epoch 00034: val_acc did not improve from 0.85968\n",
      "\n",
      "Epoch 00035: val_acc did not improve from 0.85968\n",
      "\n",
      "Epoch 00036: val_acc did not improve from 0.85968\n",
      "\n",
      "Epoch 00037: val_acc did not improve from 0.85968\n",
      "\n",
      "Epoch 00038: val_acc did not improve from 0.85968\n",
      "\n",
      "Epoch 00039: val_acc did not improve from 0.85968\n",
      "\n",
      "Epoch 00040: val_acc did not improve from 0.85968\n",
      "\n",
      "Epoch 00041: val_acc did not improve from 0.85968\n",
      "\n",
      "Epoch 00042: val_acc did not improve from 0.85968\n",
      "\n",
      "Epoch 00043: val_acc did not improve from 0.85968\n",
      "\n",
      "Epoch 00044: val_acc did not improve from 0.85968\n",
      "\n",
      "Epoch 00045: val_acc did not improve from 0.85968\n",
      "\n",
      "Epoch 00046: val_acc did not improve from 0.85968\n",
      "\n",
      "Epoch 00047: val_acc did not improve from 0.85968\n",
      "\n",
      "Epoch 00048: val_acc did not improve from 0.85968\n",
      "\n",
      "Epoch 00049: val_acc did not improve from 0.85968\n",
      "\n",
      "Epoch 00050: val_acc did not improve from 0.85968\n",
      "\n",
      "Epoch 00051: val_acc did not improve from 0.85968\n",
      "Epoch 00051: early stopping\n"
     ]
    }
   ],
   "source": [
    "# simple early stopping\n",
    "es = EarlyStopping(monitor='val_loss', mode='min', verbose=1, patience=50)\n",
    "mc = ModelCheckpoint('./models/best_cnn.h5', monitor='val_acc', verbose=1, mode='max',  save_best_only=True)\n",
    "\n",
    "cnn_history = cnn.fit(X_train, y_train, \n",
    "                      batch_size=128, \n",
    "                      epochs=1000, \n",
    "                      verbose=0, \n",
    "                      validation_data = (X_test,y_test), \n",
    "                      callbacks=[es, mc])"
   ]
  },
  {
   "cell_type": "code",
   "execution_count": 52,
   "metadata": {},
   "outputs": [
    {
     "name": "stdout",
     "output_type": "stream",
     "text": [
      "3720/3720 [==============================] - 0s 44us/step\n"
     ]
    },
    {
     "data": {
      "text/plain": [
       "[0.8988740501544809, 0.8596774339675903]"
      ]
     },
     "execution_count": 52,
     "metadata": {},
     "output_type": "execute_result"
    }
   ],
   "source": [
    "cnn = load_model('./models/best_cnn.h5')\n",
    "cnn.evaluate(X_test, y_test, verbose=1)"
   ]
  },
  {
   "cell_type": "markdown",
   "metadata": {},
   "source": [
    "### BALANCING CNN"
   ]
  },
  {
   "cell_type": "code",
   "execution_count": 53,
   "metadata": {},
   "outputs": [],
   "source": [
    "cnn_balance = Sequential()\n",
    "\n",
    "embedding_layer = Embedding(vocab_size, 100, weights=[embedding_matrix], input_length=maxlen , trainable=False)\n",
    "cnn_balance.add(embedding_layer)\n",
    "\n",
    "cnn_balance.add(Conv1D(128, 5, activation='relu'))\n",
    "cnn_balance.add(GlobalMaxPooling1D())\n",
    "#add a vanilla hidden layer:\n",
    "cnn.add(Dense(128))\n",
    "cnn.add(Activation('relu'))\n",
    "cnn.add(Dense(1, activation='sigmoid'))\n",
    "cnn_balance.add(Dense(2, activation='sigmoid'))\n",
    "\n",
    "cnn_balance.compile(optimizer='adam', loss='binary_crossentropy', metrics=['acc'])"
   ]
  },
  {
   "cell_type": "code",
   "execution_count": 54,
   "metadata": {
    "scrolled": true
   },
   "outputs": [
    {
     "name": "stdout",
     "output_type": "stream",
     "text": [
      "Model: \"sequential_9\"\n",
      "_________________________________________________________________\n",
      "Layer (type)                 Output Shape              Param #   \n",
      "=================================================================\n",
      "embedding_9 (Embedding)      (None, 65, 100)           2441300   \n",
      "_________________________________________________________________\n",
      "conv1d_5 (Conv1D)            (None, 61, 128)           64128     \n",
      "_________________________________________________________________\n",
      "global_max_pooling1d_5 (Glob (None, 128)               0         \n",
      "_________________________________________________________________\n",
      "dense_19 (Dense)             (None, 2)                 258       \n",
      "=================================================================\n",
      "Total params: 2,505,686\n",
      "Trainable params: 64,386\n",
      "Non-trainable params: 2,441,300\n",
      "_________________________________________________________________\n",
      "None\n"
     ]
    }
   ],
   "source": [
    "cnn_balance.compile(optimizer='adam', loss='binary_crossentropy', metrics=['acc'])\n",
    "\n",
    "print(cnn_balance.summary())"
   ]
  },
  {
   "cell_type": "code",
   "execution_count": 55,
   "metadata": {},
   "outputs": [],
   "source": [
    "training_generator, steps_per_epoch = balanced_batch_generator(X_train, y_train_balance, \n",
    "                                                               sampler=NearMiss(), \n",
    "                                                               batch_size=128, \n",
    "                                                               random_state=42)"
   ]
  },
  {
   "cell_type": "code",
   "execution_count": 56,
   "metadata": {
    "scrolled": true
   },
   "outputs": [
    {
     "name": "stdout",
     "output_type": "stream",
     "text": [
      "Epoch 1/1000\n",
      "54/54 [==============================] - 0s 9ms/step - loss: 0.4616 - acc: 0.7866 - val_loss: 0.7961 - val_acc: 0.5500\n",
      "\n",
      "Epoch 00001: val_acc improved from -inf to 0.55000, saving model to ./models/best_cnnb.h5\n",
      "Epoch 2/1000\n",
      "54/54 [==============================] - 0s 6ms/step - loss: 0.3302 - acc: 0.8665 - val_loss: 0.7455 - val_acc: 0.6070\n",
      "\n",
      "Epoch 00002: val_acc improved from 0.55000 to 0.60699, saving model to ./models/best_cnnb.h5\n",
      "Epoch 3/1000\n",
      "54/54 [==============================] - 0s 5ms/step - loss: 0.2765 - acc: 0.8910 - val_loss: 0.7272 - val_acc: 0.6194\n",
      "\n",
      "Epoch 00003: val_acc improved from 0.60699 to 0.61935, saving model to ./models/best_cnnb.h5\n",
      "Epoch 4/1000\n",
      "54/54 [==============================] - 0s 5ms/step - loss: 0.2377 - acc: 0.9100 - val_loss: 0.6981 - val_acc: 0.6406\n",
      "\n",
      "Epoch 00004: val_acc improved from 0.61935 to 0.64059, saving model to ./models/best_cnnb.h5\n",
      "Epoch 5/1000\n",
      "54/54 [==============================] - 0s 6ms/step - loss: 0.2065 - acc: 0.9244 - val_loss: 0.6561 - val_acc: 0.6667\n",
      "\n",
      "Epoch 00005: val_acc improved from 0.64059 to 0.66667, saving model to ./models/best_cnnb.h5\n",
      "Epoch 6/1000\n",
      "54/54 [==============================] - 0s 5ms/step - loss: 0.1768 - acc: 0.9401 - val_loss: 0.6128 - val_acc: 0.6930\n",
      "\n",
      "Epoch 00006: val_acc improved from 0.66667 to 0.69301, saving model to ./models/best_cnnb.h5\n",
      "Epoch 7/1000\n",
      "54/54 [==============================] - 0s 5ms/step - loss: 0.1510 - acc: 0.9539 - val_loss: 0.6043 - val_acc: 0.7059\n",
      "\n",
      "Epoch 00007: val_acc improved from 0.69301 to 0.70591, saving model to ./models/best_cnnb.h5\n",
      "Epoch 8/1000\n",
      "54/54 [==============================] - 0s 6ms/step - loss: 0.1271 - acc: 0.9659 - val_loss: 0.6279 - val_acc: 0.7050\n",
      "\n",
      "Epoch 00008: val_acc did not improve from 0.70591\n",
      "Epoch 9/1000\n",
      "54/54 [==============================] - 0s 6ms/step - loss: 0.1070 - acc: 0.9758 - val_loss: 0.7586 - val_acc: 0.6696\n",
      "\n",
      "Epoch 00009: val_acc did not improve from 0.70591\n",
      "Epoch 10/1000\n",
      "54/54 [==============================] - 0s 5ms/step - loss: 0.0896 - acc: 0.9833 - val_loss: 0.9647 - val_acc: 0.6363\n",
      "\n",
      "Epoch 00010: val_acc did not improve from 0.70591\n",
      "Epoch 11/1000\n",
      "54/54 [==============================] - 0s 6ms/step - loss: 0.0763 - acc: 0.9870 - val_loss: 1.0542 - val_acc: 0.6308\n",
      "\n",
      "Epoch 00011: val_acc did not improve from 0.70591\n",
      "Epoch 12/1000\n",
      "54/54 [==============================] - 0s 6ms/step - loss: 0.0662 - acc: 0.9901 - val_loss: 1.0619 - val_acc: 0.6360\n",
      "\n",
      "Epoch 00012: val_acc did not improve from 0.70591\n",
      "Epoch 13/1000\n",
      "54/54 [==============================] - 0s 6ms/step - loss: 0.0580 - acc: 0.9923 - val_loss: 1.2414 - val_acc: 0.6200\n",
      "\n",
      "Epoch 00013: val_acc did not improve from 0.70591\n",
      "Epoch 14/1000\n",
      "54/54 [==============================] - 0s 5ms/step - loss: 0.0520 - acc: 0.9924 - val_loss: 1.4251 - val_acc: 0.6106\n",
      "\n",
      "Epoch 00014: val_acc did not improve from 0.70591\n",
      "Epoch 15/1000\n",
      "54/54 [==============================] - 0s 5ms/step - loss: 0.0483 - acc: 0.9929 - val_loss: 0.9412 - val_acc: 0.6692\n",
      "\n",
      "Epoch 00015: val_acc did not improve from 0.70591\n",
      "Epoch 16/1000\n",
      "54/54 [==============================] - 0s 5ms/step - loss: 0.0449 - acc: 0.9930 - val_loss: 0.9535 - val_acc: 0.6720\n",
      "\n",
      "Epoch 00016: val_acc did not improve from 0.70591\n",
      "Epoch 17/1000\n",
      "54/54 [==============================] - 0s 5ms/step - loss: 0.0462 - acc: 0.9930 - val_loss: 1.4963 - val_acc: 0.6116\n",
      "\n",
      "Epoch 00017: val_acc did not improve from 0.70591\n",
      "Epoch 18/1000\n",
      "54/54 [==============================] - 0s 5ms/step - loss: 0.0497 - acc: 0.9897 - val_loss: 1.7500 - val_acc: 0.6000\n",
      "\n",
      "Epoch 00018: val_acc did not improve from 0.70591\n",
      "Epoch 19/1000\n",
      "54/54 [==============================] - 0s 6ms/step - loss: 0.0570 - acc: 0.9833 - val_loss: 1.5875 - val_acc: 0.6194\n",
      "\n",
      "Epoch 00019: val_acc did not improve from 0.70591\n",
      "Epoch 20/1000\n",
      "54/54 [==============================] - 0s 6ms/step - loss: 0.0458 - acc: 0.9878 - val_loss: 0.7531 - val_acc: 0.7341\n",
      "\n",
      "Epoch 00020: val_acc improved from 0.70591 to 0.73414, saving model to ./models/best_cnnb.h5\n",
      "Epoch 21/1000\n",
      "54/54 [==============================] - 0s 6ms/step - loss: 0.0332 - acc: 0.9929 - val_loss: 1.1535 - val_acc: 0.6589\n",
      "\n",
      "Epoch 00021: val_acc did not improve from 0.73414\n",
      "Epoch 22/1000\n",
      "54/54 [==============================] - 0s 6ms/step - loss: 0.0287 - acc: 0.9948 - val_loss: 1.1010 - val_acc: 0.6708\n",
      "\n",
      "Epoch 00022: val_acc did not improve from 0.73414\n",
      "Epoch 23/1000\n",
      "54/54 [==============================] - 0s 5ms/step - loss: 0.0267 - acc: 0.9952 - val_loss: 0.9804 - val_acc: 0.6966\n",
      "\n",
      "Epoch 00023: val_acc did not improve from 0.73414\n",
      "Epoch 24/1000\n",
      "54/54 [==============================] - 0s 5ms/step - loss: 0.0248 - acc: 0.9959 - val_loss: 1.0420 - val_acc: 0.6887\n",
      "\n",
      "Epoch 00024: val_acc did not improve from 0.73414\n",
      "Epoch 25/1000\n",
      "54/54 [==============================] - 0s 6ms/step - loss: 0.0240 - acc: 0.9955 - val_loss: 1.4550 - val_acc: 0.6423\n",
      "\n",
      "Epoch 00025: val_acc did not improve from 0.73414\n",
      "Epoch 26/1000\n",
      "54/54 [==============================] - 0s 6ms/step - loss: 0.0244 - acc: 0.9952 - val_loss: 1.9957 - val_acc: 0.6062\n",
      "\n",
      "Epoch 00026: val_acc did not improve from 0.73414\n",
      "Epoch 27/1000\n",
      "54/54 [==============================] - 0s 5ms/step - loss: 0.0247 - acc: 0.9950 - val_loss: 2.3363 - val_acc: 0.5845\n",
      "\n",
      "Epoch 00027: val_acc did not improve from 0.73414\n",
      "Epoch 28/1000\n",
      "54/54 [==============================] - 0s 6ms/step - loss: 0.0250 - acc: 0.9950 - val_loss: 2.4790 - val_acc: 0.5790\n",
      "\n",
      "Epoch 00028: val_acc did not improve from 0.73414\n",
      "Epoch 29/1000\n",
      "54/54 [==============================] - 0s 6ms/step - loss: 0.0258 - acc: 0.9955 - val_loss: 2.4635 - val_acc: 0.5845\n",
      "\n",
      "Epoch 00029: val_acc did not improve from 0.73414\n",
      "Epoch 30/1000\n",
      "54/54 [==============================] - 0s 6ms/step - loss: 0.0260 - acc: 0.9956 - val_loss: 2.3910 - val_acc: 0.5941\n",
      "\n",
      "Epoch 00030: val_acc did not improve from 0.73414\n",
      "Epoch 31/1000\n",
      "54/54 [==============================] - 0s 5ms/step - loss: 0.0276 - acc: 0.9955 - val_loss: 2.3265 - val_acc: 0.6048\n",
      "\n",
      "Epoch 00031: val_acc did not improve from 0.73414\n",
      "Epoch 32/1000\n",
      "54/54 [==============================] - 0s 6ms/step - loss: 0.0286 - acc: 0.9953 - val_loss: 2.2484 - val_acc: 0.6120\n",
      "\n",
      "Epoch 00032: val_acc did not improve from 0.73414\n",
      "Epoch 33/1000\n",
      "54/54 [==============================] - 0s 6ms/step - loss: 0.0301 - acc: 0.9948 - val_loss: 2.0172 - val_acc: 0.6254\n",
      "\n",
      "Epoch 00033: val_acc did not improve from 0.73414\n",
      "Epoch 34/1000\n",
      "54/54 [==============================] - 0s 6ms/step - loss: 0.0317 - acc: 0.9941 - val_loss: 1.6590 - val_acc: 0.6483\n",
      "\n",
      "Epoch 00034: val_acc did not improve from 0.73414\n",
      "Epoch 35/1000\n",
      "54/54 [==============================] - 0s 5ms/step - loss: 0.0357 - acc: 0.9895 - val_loss: 0.8156 - val_acc: 0.7651\n",
      "\n",
      "Epoch 00035: val_acc improved from 0.73414 to 0.76505, saving model to ./models/best_cnnb.h5\n",
      "Epoch 36/1000\n",
      "54/54 [==============================] - 0s 6ms/step - loss: 0.0295 - acc: 0.9910 - val_loss: 0.9515 - val_acc: 0.7395\n",
      "\n",
      "Epoch 00036: val_acc did not improve from 0.76505\n",
      "Epoch 37/1000\n",
      "54/54 [==============================] - 0s 6ms/step - loss: 0.0382 - acc: 0.9872 - val_loss: 1.8147 - val_acc: 0.6394\n",
      "\n",
      "Epoch 00037: val_acc did not improve from 0.76505\n",
      "Epoch 38/1000\n",
      "54/54 [==============================] - 0s 5ms/step - loss: 0.0360 - acc: 0.9878 - val_loss: 2.1756 - val_acc: 0.6234\n",
      "\n",
      "Epoch 00038: val_acc did not improve from 0.76505\n",
      "Epoch 39/1000\n",
      "54/54 [==============================] - 0s 6ms/step - loss: 0.0338 - acc: 0.9900 - val_loss: 2.3407 - val_acc: 0.6183\n",
      "\n",
      "Epoch 00039: val_acc did not improve from 0.76505\n",
      "Epoch 40/1000\n",
      "54/54 [==============================] - 0s 6ms/step - loss: 0.0385 - acc: 0.9893 - val_loss: 2.5035 - val_acc: 0.6089\n",
      "\n",
      "Epoch 00040: val_acc did not improve from 0.76505\n",
      "Epoch 41/1000\n",
      "54/54 [==============================] - 0s 5ms/step - loss: 0.0255 - acc: 0.9944 - val_loss: 3.1339 - val_acc: 0.5726\n",
      "\n",
      "Epoch 00041: val_acc did not improve from 0.76505\n",
      "Epoch 42/1000\n",
      "54/54 [==============================] - 0s 5ms/step - loss: 0.0251 - acc: 0.9950 - val_loss: 1.4097 - val_acc: 0.6835\n",
      "\n",
      "Epoch 00042: val_acc did not improve from 0.76505\n",
      "Epoch 43/1000\n"
     ]
    },
    {
     "name": "stdout",
     "output_type": "stream",
     "text": [
      "54/54 [==============================] - 0s 5ms/step - loss: 0.0131 - acc: 0.9964 - val_loss: 1.7048 - val_acc: 0.6497\n",
      "\n",
      "Epoch 00043: val_acc did not improve from 0.76505\n",
      "Epoch 44/1000\n",
      "54/54 [==============================] - 0s 5ms/step - loss: 0.0114 - acc: 0.9966 - val_loss: 1.6913 - val_acc: 0.6511\n",
      "\n",
      "Epoch 00044: val_acc did not improve from 0.76505\n",
      "Epoch 45/1000\n",
      "54/54 [==============================] - 0s 6ms/step - loss: 0.0113 - acc: 0.9966 - val_loss: 1.6888 - val_acc: 0.6522\n",
      "\n",
      "Epoch 00045: val_acc did not improve from 0.76505\n",
      "Epoch 46/1000\n",
      "54/54 [==============================] - 0s 6ms/step - loss: 0.0110 - acc: 0.9969 - val_loss: 1.6852 - val_acc: 0.6531\n",
      "\n",
      "Epoch 00046: val_acc did not improve from 0.76505\n",
      "Epoch 47/1000\n",
      "54/54 [==============================] - 0s 5ms/step - loss: 0.0110 - acc: 0.9968 - val_loss: 1.6927 - val_acc: 0.6532\n",
      "\n",
      "Epoch 00047: val_acc did not improve from 0.76505\n",
      "Epoch 48/1000\n",
      "54/54 [==============================] - 0s 6ms/step - loss: 0.0110 - acc: 0.9968 - val_loss: 1.6978 - val_acc: 0.6530\n",
      "\n",
      "Epoch 00048: val_acc did not improve from 0.76505\n",
      "Epoch 49/1000\n",
      "54/54 [==============================] - 0s 6ms/step - loss: 0.0107 - acc: 0.9969 - val_loss: 1.7041 - val_acc: 0.6532\n",
      "\n",
      "Epoch 00049: val_acc did not improve from 0.76505\n",
      "Epoch 50/1000\n",
      "54/54 [==============================] - 0s 5ms/step - loss: 0.0108 - acc: 0.9968 - val_loss: 1.7220 - val_acc: 0.6522\n",
      "\n",
      "Epoch 00050: val_acc did not improve from 0.76505\n",
      "Epoch 51/1000\n",
      "54/54 [==============================] - 0s 5ms/step - loss: 0.0107 - acc: 0.9968 - val_loss: 1.7284 - val_acc: 0.6519\n",
      "\n",
      "Epoch 00051: val_acc did not improve from 0.76505\n",
      "Epoch 52/1000\n",
      "54/54 [==============================] - 0s 5ms/step - loss: 0.0104 - acc: 0.9969 - val_loss: 1.7216 - val_acc: 0.6534\n",
      "\n",
      "Epoch 00052: val_acc did not improve from 0.76505\n",
      "Epoch 53/1000\n",
      "54/54 [==============================] - 0s 5ms/step - loss: 0.0103 - acc: 0.9971 - val_loss: 1.7128 - val_acc: 0.6542\n",
      "\n",
      "Epoch 00053: val_acc did not improve from 0.76505\n",
      "Epoch 54/1000\n",
      "54/54 [==============================] - 0s 5ms/step - loss: 0.0108 - acc: 0.9968 - val_loss: 1.7206 - val_acc: 0.6538\n",
      "\n",
      "Epoch 00054: val_acc did not improve from 0.76505\n",
      "Epoch 55/1000\n",
      "54/54 [==============================] - 0s 6ms/step - loss: 0.0099 - acc: 0.9969 - val_loss: 1.7250 - val_acc: 0.6539\n",
      "\n",
      "Epoch 00055: val_acc did not improve from 0.76505\n",
      "Epoch 56/1000\n",
      "54/54 [==============================] - 0s 5ms/step - loss: 0.0108 - acc: 0.9967 - val_loss: 1.7240 - val_acc: 0.6551\n",
      "\n",
      "Epoch 00056: val_acc did not improve from 0.76505\n",
      "Epoch 57/1000\n",
      "54/54 [==============================] - 0s 5ms/step - loss: 0.0106 - acc: 0.9967 - val_loss: 1.7270 - val_acc: 0.6554\n",
      "\n",
      "Epoch 00057: val_acc did not improve from 0.76505\n",
      "Epoch 00057: early stopping\n"
     ]
    }
   ],
   "source": [
    "es = EarlyStopping(monitor='val_loss', mode='min', verbose=1, patience=50)\n",
    "mc = ModelCheckpoint('./models/best_cnnb.h5', monitor='val_acc', verbose=1, mode='max',  save_best_only=True)\n",
    "\n",
    "balanced_history_cnn = cnn_balance.fit_generator(generator=training_generator, \n",
    "                                                 steps_per_epoch=steps_per_epoch, \n",
    "                                                 epochs=1000, verbose=1, \n",
    "                                                 validation_data=(X_test, y_test_balance),\n",
    "                                                 callbacks=[es, mc]\n",
    "                                                )"
   ]
  },
  {
   "cell_type": "code",
   "execution_count": 57,
   "metadata": {},
   "outputs": [
    {
     "name": "stdout",
     "output_type": "stream",
     "text": [
      "3720/3720 [==============================] - 0s 42us/step\n"
     ]
    },
    {
     "data": {
      "text/plain": [
       "[0.815643060207367, 0.7650537490844727]"
      ]
     },
     "execution_count": 57,
     "metadata": {},
     "output_type": "execute_result"
    }
   ],
   "source": [
    "cnn_balance =load_model('./models/best_cnnb.h5')\n",
    "cnn_balance.evaluate(X_test, y_test_balance)"
   ]
  },
  {
   "cell_type": "code",
   "execution_count": 58,
   "metadata": {},
   "outputs": [
    {
     "data": {
      "image/png": "[encoded data removed]",
      "text/plain": [
       "<Figure size 1080x720 with 1 Axes>"
      ]
     },
     "metadata": {
      "needs_background": "light"
     },
     "output_type": "display_data"
    }
   ],
   "source": [
    "plt.figure(figsize=(15,10))\n",
    "plt.plot(balanced_history_cnn.history['acc'])\n",
    "plt.plot(balanced_history_cnn.history['val_acc'])\n",
    "plt.plot(balanced_history_cnn.history['loss'])\n",
    "plt.plot(balanced_history_cnn.history['val_loss'])\n",
    "plt.legend(['acc','val_acc','loss','val_loss'])\n",
    "plt.show()"
   ]
  },
  {
   "cell_type": "code",
   "execution_count": 59,
   "metadata": {},
   "outputs": [
    {
     "data": {
      "image/png": "[encoded data removed]",
      "text/plain": [
       "<Figure size 1080x720 with 2 Axes>"
      ]
     },
     "metadata": {
      "needs_background": "light"
     },
     "output_type": "display_data"
    }
   ],
   "source": [
    "plt.figure(figsize=(15,10))\n",
    "\n",
    "plt.subplot(2,1,1)\n",
    "plt.plot(balanced_history_cnn.history['acc'])\n",
    "plt.plot(balanced_history_cnn.history['val_acc'])\n",
    "plt.title('CNN model accuracy')\n",
    "plt.ylabel('Accuracy')\n",
    "plt.xlabel('Epoch')\n",
    "plt.legend(['train','test'], loc = 'upper left')\n",
    "\n",
    "plt.subplot(2,1,2)\n",
    "plt.plot(balanced_history_cnn.history['loss'])\n",
    "plt.plot(balanced_history_cnn.history['val_loss'])\n",
    "plt.title('CNN model loss')\n",
    "plt.ylabel('Loss')\n",
    "plt.xlabel('Epoch')\n",
    "plt.legend(['train','test'], loc = 'upper right')\n",
    "plt.show()"
   ]
  },
  {
   "cell_type": "markdown",
   "metadata": {},
   "source": [
    "# LSTM model"
   ]
  },
  {
   "cell_type": "code",
   "execution_count": 60,
   "metadata": {},
   "outputs": [],
   "source": [
    "lstm_model = Sequential()\n",
    "\n",
    "embedding_layer = Embedding(vocab_size, 100, weights=[embedding_matrix], input_length=maxlen , trainable=False)\n",
    "\n",
    "lstm_model.add(embedding_layer)\n",
    "lstm_model.add(LSTM(128))\n",
    "lstm_model.add(Dense(128))\n",
    "lstm_model.add(Activation('relu'))\n",
    "\n",
    "lstm_model.add(Dense(1, activation='sigmoid'))\n",
    "\n",
    "lstm_model.compile(optimizer='adam', loss='binary_crossentropy', metrics=['acc'])"
   ]
  },
  {
   "cell_type": "code",
   "execution_count": 61,
   "metadata": {},
   "outputs": [
    {
     "name": "stdout",
     "output_type": "stream",
     "text": [
      "Model: \"sequential_10\"\n",
      "_________________________________________________________________\n",
      "Layer (type)                 Output Shape              Param #   \n",
      "=================================================================\n",
      "embedding_10 (Embedding)     (None, 65, 100)           2441300   \n",
      "_________________________________________________________________\n",
      "lstm_3 (LSTM)                (None, 128)               117248    \n",
      "_________________________________________________________________\n",
      "dense_20 (Dense)             (None, 128)               16512     \n",
      "_________________________________________________________________\n",
      "activation_8 (Activation)    (None, 128)               0         \n",
      "_________________________________________________________________\n",
      "dense_21 (Dense)             (None, 1)                 129       \n",
      "=================================================================\n",
      "Total params: 2,575,189\n",
      "Trainable params: 133,889\n",
      "Non-trainable params: 2,441,300\n",
      "_________________________________________________________________\n",
      "None\n"
     ]
    }
   ],
   "source": [
    "print(lstm_model.summary())"
   ]
  },
  {
   "cell_type": "code",
   "execution_count": 62,
   "metadata": {
    "scrolled": true
   },
   "outputs": [
    {
     "name": "stdout",
     "output_type": "stream",
     "text": [
      "\n",
      "Epoch 00001: val_acc improved from -inf to 0.75538, saving model to ./models/best_lstm.h5\n",
      "\n",
      "Epoch 00002: val_acc improved from 0.75538 to 0.78387, saving model to ./models/best_lstm.h5\n",
      "\n",
      "Epoch 00003: val_acc improved from 0.78387 to 0.85780, saving model to ./models/best_lstm.h5\n",
      "\n",
      "Epoch 00004: val_acc did not improve from 0.85780\n",
      "\n",
      "Epoch 00005: val_acc did not improve from 0.85780\n",
      "\n",
      "Epoch 00006: val_acc improved from 0.85780 to 0.88306, saving model to ./models/best_lstm.h5\n",
      "\n",
      "Epoch 00007: val_acc did not improve from 0.88306\n",
      "\n",
      "Epoch 00008: val_acc improved from 0.88306 to 0.89005, saving model to ./models/best_lstm.h5\n",
      "\n",
      "Epoch 00009: val_acc improved from 0.89005 to 0.89140, saving model to ./models/best_lstm.h5\n",
      "\n",
      "Epoch 00010: val_acc did not improve from 0.89140\n",
      "\n",
      "Epoch 00011: val_acc did not improve from 0.89140\n",
      "\n",
      "Epoch 00012: val_acc did not improve from 0.89140\n",
      "\n",
      "Epoch 00013: val_acc did not improve from 0.89140\n",
      "\n",
      "Epoch 00014: val_acc did not improve from 0.89140\n",
      "\n",
      "Epoch 00015: val_acc did not improve from 0.89140\n",
      "\n",
      "Epoch 00016: val_acc improved from 0.89140 to 0.89167, saving model to ./models/best_lstm.h5\n",
      "\n",
      "Epoch 00017: val_acc did not improve from 0.89167\n",
      "\n",
      "Epoch 00018: val_acc improved from 0.89167 to 0.89892, saving model to ./models/best_lstm.h5\n",
      "\n",
      "Epoch 00019: val_acc improved from 0.89892 to 0.90134, saving model to ./models/best_lstm.h5\n",
      "\n",
      "Epoch 00020: val_acc did not improve from 0.90134\n",
      "\n",
      "Epoch 00021: val_acc did not improve from 0.90134\n",
      "\n",
      "Epoch 00022: val_acc did not improve from 0.90134\n",
      "\n",
      "Epoch 00023: val_acc did not improve from 0.90134\n",
      "\n",
      "Epoch 00024: val_acc did not improve from 0.90134\n",
      "\n",
      "Epoch 00025: val_acc did not improve from 0.90134\n",
      "\n",
      "Epoch 00026: val_acc did not improve from 0.90134\n",
      "\n",
      "Epoch 00027: val_acc did not improve from 0.90134\n",
      "\n",
      "Epoch 00028: val_acc did not improve from 0.90134\n",
      "\n",
      "Epoch 00029: val_acc did not improve from 0.90134\n",
      "\n",
      "Epoch 00030: val_acc did not improve from 0.90134\n",
      "\n",
      "Epoch 00031: val_acc did not improve from 0.90134\n",
      "\n",
      "Epoch 00032: val_acc did not improve from 0.90134\n",
      "\n",
      "Epoch 00033: val_acc did not improve from 0.90134\n",
      "\n",
      "Epoch 00034: val_acc did not improve from 0.90134\n",
      "\n",
      "Epoch 00035: val_acc did not improve from 0.90134\n",
      "\n",
      "Epoch 00036: val_acc did not improve from 0.90134\n",
      "\n",
      "Epoch 00037: val_acc did not improve from 0.90134\n",
      "\n",
      "Epoch 00038: val_acc did not improve from 0.90134\n",
      "\n",
      "Epoch 00039: val_acc did not improve from 0.90134\n",
      "\n",
      "Epoch 00040: val_acc did not improve from 0.90134\n",
      "\n",
      "Epoch 00041: val_acc did not improve from 0.90134\n",
      "\n",
      "Epoch 00042: val_acc did not improve from 0.90134\n",
      "\n",
      "Epoch 00043: val_acc did not improve from 0.90134\n",
      "\n",
      "Epoch 00044: val_acc did not improve from 0.90134\n",
      "\n",
      "Epoch 00045: val_acc did not improve from 0.90134\n",
      "\n",
      "Epoch 00046: val_acc did not improve from 0.90134\n",
      "\n",
      "Epoch 00047: val_acc did not improve from 0.90134\n",
      "\n",
      "Epoch 00048: val_acc did not improve from 0.90134\n",
      "\n",
      "Epoch 00049: val_acc did not improve from 0.90134\n",
      "\n",
      "Epoch 00050: val_acc did not improve from 0.90134\n",
      "\n",
      "Epoch 00051: val_acc did not improve from 0.90134\n",
      "\n",
      "Epoch 00052: val_acc did not improve from 0.90134\n",
      "\n",
      "Epoch 00053: val_acc did not improve from 0.90134\n",
      "\n",
      "Epoch 00054: val_acc did not improve from 0.90134\n",
      "\n",
      "Epoch 00055: val_acc did not improve from 0.90134\n",
      "\n",
      "Epoch 00056: val_acc did not improve from 0.90134\n",
      "\n",
      "Epoch 00057: val_acc did not improve from 0.90134\n",
      "\n",
      "Epoch 00058: val_acc did not improve from 0.90134\n",
      "\n",
      "Epoch 00059: val_acc did not improve from 0.90134\n",
      "Epoch 00059: early stopping\n",
      "3720/3720 [==============================] - 2s 505us/step\n"
     ]
    }
   ],
   "source": [
    "es = EarlyStopping(monitor='val_loss', mode='min', verbose=1, patience=50)\n",
    "mc = ModelCheckpoint('./models/best_lstm.h5', monitor='val_acc', verbose=1, mode='max',  save_best_only=True)\n",
    "\n",
    "lstm_history = lstm_model.fit(X_train, y_train,\n",
    "                              batch_size=128, \n",
    "                              epochs=1000, \n",
    "                              verbose=0, \n",
    "                              validation_data=(X_test, y_test),\n",
    "                              callbacks=[es, mc])\n",
    "\n",
    "lstm_score = lstm_model.evaluate(X_test, y_test, verbose=1)"
   ]
  },
  {
   "cell_type": "code",
   "execution_count": 63,
   "metadata": {},
   "outputs": [
    {
     "name": "stdout",
     "output_type": "stream",
     "text": [
      "3720/3720 [==============================] - 2s 503us/step\n"
     ]
    },
    {
     "data": {
      "text/plain": [
       "[0.2779264856410283, 0.9013440608978271]"
      ]
     },
     "execution_count": 63,
     "metadata": {},
     "output_type": "execute_result"
    }
   ],
   "source": [
    "lstm_model = load_model('./models/best_lstm.h5')\n",
    "lstm_model.evaluate(X_test, y_test)"
   ]
  },
  {
   "cell_type": "markdown",
   "metadata": {},
   "source": [
    "### BALANCE"
   ]
  },
  {
   "cell_type": "code",
   "execution_count": 64,
   "metadata": {},
   "outputs": [],
   "source": [
    "lstm_model_balance = Sequential()\n",
    "\n",
    "embedding_layer = Embedding(vocab_size, 100, weights=[embedding_matrix], input_length=maxlen , trainable=False)\n",
    "\n",
    "lstm_model_balance.add(embedding_layer)\n",
    "lstm_model_balance.add(LSTM(128))\n",
    "lstm_model_balance.add(Dense(128))\n",
    "lstm_model_balance.add(Activation('relu'))\n",
    "lstm_model_balance.add(Dense(2, activation='sigmoid'))\n",
    "\n",
    "lstm_model_balance.compile(optimizer='adam', loss='binary_crossentropy', metrics=['acc'])"
   ]
  },
  {
   "cell_type": "code",
   "execution_count": 65,
   "metadata": {
    "scrolled": true
   },
   "outputs": [
    {
     "name": "stdout",
     "output_type": "stream",
     "text": [
      "Epoch 1/1000\n",
      "54/54 [==============================] - 3s 50ms/step - loss: 0.5595 - acc: 0.7307 - val_loss: 0.7070 - val_acc: 0.4824\n",
      "\n",
      "Epoch 00001: val_acc improved from -inf to 0.48239, saving model to ./models/best_lstmb.h5\n",
      "Epoch 2/1000\n",
      "54/54 [==============================] - 2s 43ms/step - loss: 0.4606 - acc: 0.7939 - val_loss: 0.6184 - val_acc: 0.5933\n",
      "\n",
      "Epoch 00002: val_acc improved from 0.48239 to 0.59328, saving model to ./models/best_lstmb.h5\n",
      "Epoch 3/1000\n",
      "54/54 [==============================] - 2s 45ms/step - loss: 0.4105 - acc: 0.8193 - val_loss: 0.7810 - val_acc: 0.6280\n",
      "\n",
      "Epoch 00003: val_acc improved from 0.59328 to 0.62796, saving model to ./models/best_lstmb.h5\n",
      "Epoch 4/1000\n",
      "54/54 [==============================] - 2s 44ms/step - loss: 0.3627 - acc: 0.8438 - val_loss: 0.8313 - val_acc: 0.6215\n",
      "\n",
      "Epoch 00004: val_acc did not improve from 0.62796\n",
      "Epoch 5/1000\n",
      "54/54 [==============================] - 2s 43ms/step - loss: 0.3326 - acc: 0.8617 - val_loss: 0.9086 - val_acc: 0.6087\n",
      "\n",
      "Epoch 00005: val_acc did not improve from 0.62796\n",
      "Epoch 6/1000\n",
      "54/54 [==============================] - 2s 44ms/step - loss: 0.3153 - acc: 0.8698 - val_loss: 0.7115 - val_acc: 0.7207\n",
      "\n",
      "Epoch 00006: val_acc improved from 0.62796 to 0.72070, saving model to ./models/best_lstmb.h5\n",
      "Epoch 7/1000\n",
      "54/54 [==============================] - 2s 44ms/step - loss: 0.2985 - acc: 0.8727 - val_loss: 0.8206 - val_acc: 0.6757\n",
      "\n",
      "Epoch 00007: val_acc did not improve from 0.72070\n",
      "Epoch 8/1000\n",
      "54/54 [==============================] - 2s 43ms/step - loss: 0.2930 - acc: 0.8795 - val_loss: 0.8767 - val_acc: 0.6446\n",
      "\n",
      "Epoch 00008: val_acc did not improve from 0.72070\n",
      "Epoch 9/1000\n",
      "54/54 [==============================] - 3s 58ms/step - loss: 0.2989 - acc: 0.8793 - val_loss: 0.7542 - val_acc: 0.6927\n",
      "\n",
      "Epoch 00009: val_acc did not improve from 0.72070\n",
      "Epoch 10/1000\n",
      "54/54 [==============================] - 2s 44ms/step - loss: 0.2917 - acc: 0.8861 - val_loss: 0.8672 - val_acc: 0.6113\n",
      "\n",
      "Epoch 00010: val_acc did not improve from 0.72070\n",
      "Epoch 11/1000\n",
      "54/54 [==============================] - 2s 44ms/step - loss: 0.2690 - acc: 0.8943 - val_loss: 0.8879 - val_acc: 0.6042\n",
      "\n",
      "Epoch 00011: val_acc did not improve from 0.72070\n",
      "Epoch 12/1000\n",
      "54/54 [==============================] - 2s 45ms/step - loss: 0.2563 - acc: 0.8970 - val_loss: 0.9118 - val_acc: 0.5906\n",
      "\n",
      "Epoch 00012: val_acc did not improve from 0.72070\n",
      "Epoch 13/1000\n",
      "54/54 [==============================] - 2s 44ms/step - loss: 0.2317 - acc: 0.9107 - val_loss: 1.0936 - val_acc: 0.5987\n",
      "\n",
      "Epoch 00013: val_acc did not improve from 0.72070\n",
      "Epoch 14/1000\n",
      "54/54 [==============================] - 2s 44ms/step - loss: 0.2297 - acc: 0.9137 - val_loss: 1.0456 - val_acc: 0.5876\n",
      "\n",
      "Epoch 00014: val_acc did not improve from 0.72070\n",
      "Epoch 15/1000\n",
      "54/54 [==============================] - 2s 45ms/step - loss: 0.2248 - acc: 0.9149 - val_loss: 0.7584 - val_acc: 0.6610\n",
      "\n",
      "Epoch 00015: val_acc did not improve from 0.72070\n",
      "Epoch 16/1000\n",
      "54/54 [==============================] - 2s 45ms/step - loss: 0.2233 - acc: 0.9174 - val_loss: 0.5701 - val_acc: 0.7749\n",
      "\n",
      "Epoch 00016: val_acc improved from 0.72070 to 0.77487, saving model to ./models/best_lstmb.h5\n",
      "Epoch 17/1000\n",
      "54/54 [==============================] - 2s 45ms/step - loss: 0.1959 - acc: 0.9301 - val_loss: 0.8400 - val_acc: 0.6940\n",
      "\n",
      "Epoch 00017: val_acc did not improve from 0.77487\n",
      "Epoch 18/1000\n",
      "54/54 [==============================] - 2s 45ms/step - loss: 0.1895 - acc: 0.9321 - val_loss: 0.7101 - val_acc: 0.7527\n",
      "\n",
      "Epoch 00018: val_acc did not improve from 0.77487\n",
      "Epoch 19/1000\n",
      "54/54 [==============================] - 2s 45ms/step - loss: 0.1735 - acc: 0.9381 - val_loss: 1.1211 - val_acc: 0.6458\n",
      "\n",
      "Epoch 00019: val_acc did not improve from 0.77487\n",
      "Epoch 20/1000\n",
      "54/54 [==============================] - 2s 45ms/step - loss: 0.1801 - acc: 0.9364 - val_loss: 0.9511 - val_acc: 0.6829\n",
      "\n",
      "Epoch 00020: val_acc did not improve from 0.77487\n",
      "Epoch 21/1000\n",
      "54/54 [==============================] - 2s 45ms/step - loss: 0.1600 - acc: 0.9437 - val_loss: 1.2570 - val_acc: 0.6062\n",
      "\n",
      "Epoch 00021: val_acc did not improve from 0.77487\n",
      "Epoch 22/1000\n",
      "54/54 [==============================] - 2s 45ms/step - loss: 0.1769 - acc: 0.9370 - val_loss: 1.0753 - val_acc: 0.6238\n",
      "\n",
      "Epoch 00022: val_acc did not improve from 0.77487\n",
      "Epoch 23/1000\n",
      "54/54 [==============================] - 2s 45ms/step - loss: 0.1766 - acc: 0.9345 - val_loss: 0.7410 - val_acc: 0.7242\n",
      "\n",
      "Epoch 00023: val_acc did not improve from 0.77487\n",
      "Epoch 24/1000\n",
      "54/54 [==============================] - 2s 45ms/step - loss: 0.1544 - acc: 0.9449 - val_loss: 0.9893 - val_acc: 0.7060\n",
      "\n",
      "Epoch 00024: val_acc did not improve from 0.77487\n",
      "Epoch 25/1000\n",
      "54/54 [==============================] - 2s 45ms/step - loss: 0.1483 - acc: 0.9509 - val_loss: 0.9134 - val_acc: 0.6304\n",
      "\n",
      "Epoch 00025: val_acc did not improve from 0.77487\n",
      "Epoch 26/1000\n",
      "54/54 [==============================] - 2s 46ms/step - loss: 0.1447 - acc: 0.9468 - val_loss: 0.9895 - val_acc: 0.6659\n",
      "\n",
      "Epoch 00026: val_acc did not improve from 0.77487\n",
      "Epoch 27/1000\n",
      "54/54 [==============================] - 3s 47ms/step - loss: 0.1159 - acc: 0.9633 - val_loss: 1.2603 - val_acc: 0.6175\n",
      "\n",
      "Epoch 00027: val_acc did not improve from 0.77487\n",
      "Epoch 28/1000\n",
      "54/54 [==============================] - 3s 47ms/step - loss: 0.1521 - acc: 0.9503 - val_loss: 1.1192 - val_acc: 0.6603\n",
      "\n",
      "Epoch 00028: val_acc did not improve from 0.77487\n",
      "Epoch 29/1000\n",
      "54/54 [==============================] - 2s 46ms/step - loss: 0.1236 - acc: 0.9588 - val_loss: 1.2001 - val_acc: 0.6305\n",
      "\n",
      "Epoch 00029: val_acc did not improve from 0.77487\n",
      "Epoch 30/1000\n",
      "54/54 [==============================] - 2s 45ms/step - loss: 0.1101 - acc: 0.9654 - val_loss: 1.3181 - val_acc: 0.6017\n",
      "\n",
      "Epoch 00030: val_acc did not improve from 0.77487\n",
      "Epoch 31/1000\n",
      "54/54 [==============================] - 2s 45ms/step - loss: 0.1156 - acc: 0.9615 - val_loss: 1.1587 - val_acc: 0.6278\n",
      "\n",
      "Epoch 00031: val_acc did not improve from 0.77487\n",
      "Epoch 32/1000\n",
      "54/54 [==============================] - 2s 45ms/step - loss: 0.1366 - acc: 0.9501 - val_loss: 0.8827 - val_acc: 0.7140\n",
      "\n",
      "Epoch 00032: val_acc did not improve from 0.77487\n",
      "Epoch 33/1000\n",
      "54/54 [==============================] - 2s 46ms/step - loss: 0.1211 - acc: 0.9584 - val_loss: 1.0078 - val_acc: 0.7132\n",
      "\n",
      "Epoch 00033: val_acc did not improve from 0.77487\n",
      "Epoch 34/1000\n",
      "54/54 [==============================] - 2s 46ms/step - loss: 0.0886 - acc: 0.9707 - val_loss: 1.3099 - val_acc: 0.6774\n",
      "\n",
      "Epoch 00034: val_acc did not improve from 0.77487\n",
      "Epoch 35/1000\n",
      "54/54 [==============================] - 2s 45ms/step - loss: 0.0789 - acc: 0.9766 - val_loss: 1.3194 - val_acc: 0.6888\n",
      "\n",
      "Epoch 00035: val_acc did not improve from 0.77487\n",
      "Epoch 36/1000\n",
      "54/54 [==============================] - 2s 45ms/step - loss: 0.0760 - acc: 0.9774 - val_loss: 1.3703 - val_acc: 0.6806\n",
      "\n",
      "Epoch 00036: val_acc did not improve from 0.77487\n",
      "Epoch 37/1000\n",
      "54/54 [==============================] - 2s 45ms/step - loss: 0.0728 - acc: 0.9785 - val_loss: 1.4385 - val_acc: 0.6684\n",
      "\n",
      "Epoch 00037: val_acc did not improve from 0.77487\n",
      "Epoch 38/1000\n",
      "54/54 [==============================] - 2s 45ms/step - loss: 0.0718 - acc: 0.9773 - val_loss: 1.6530 - val_acc: 0.6488\n",
      "\n",
      "Epoch 00038: val_acc did not improve from 0.77487\n",
      "Epoch 39/1000\n",
      "54/54 [==============================] - 2s 46ms/step - loss: 0.0582 - acc: 0.9829 - val_loss: 1.5722 - val_acc: 0.6710\n",
      "\n",
      "Epoch 00039: val_acc did not improve from 0.77487\n",
      "Epoch 40/1000\n",
      "54/54 [==============================] - 3s 47ms/step - loss: 0.0594 - acc: 0.9845 - val_loss: 1.4413 - val_acc: 0.7027\n",
      "\n",
      "Epoch 00040: val_acc did not improve from 0.77487\n",
      "Epoch 41/1000\n",
      "54/54 [==============================] - 2s 46ms/step - loss: 0.0675 - acc: 0.9802 - val_loss: 1.3448 - val_acc: 0.7149\n",
      "\n",
      "Epoch 00041: val_acc did not improve from 0.77487\n",
      "Epoch 42/1000\n",
      "54/54 [==============================] - 2s 46ms/step - loss: 0.0754 - acc: 0.9752 - val_loss: 1.2880 - val_acc: 0.7327\n",
      "\n",
      "Epoch 00042: val_acc did not improve from 0.77487\n",
      "Epoch 43/1000\n",
      "54/54 [==============================] - 2s 46ms/step - loss: 0.0641 - acc: 0.9821 - val_loss: 1.1183 - val_acc: 0.7450\n",
      "\n",
      "Epoch 00043: val_acc did not improve from 0.77487\n",
      "Epoch 44/1000\n"
     ]
    },
    {
     "name": "stdout",
     "output_type": "stream",
     "text": [
      "54/54 [==============================] - 2s 45ms/step - loss: 0.0641 - acc: 0.9815 - val_loss: 1.6006 - val_acc: 0.6867\n",
      "\n",
      "Epoch 00044: val_acc did not improve from 0.77487\n",
      "Epoch 45/1000\n",
      "54/54 [==============================] - 2s 46ms/step - loss: 0.0547 - acc: 0.9845 - val_loss: 1.8053 - val_acc: 0.6636\n",
      "\n",
      "Epoch 00045: val_acc did not improve from 0.77487\n",
      "Epoch 46/1000\n",
      "54/54 [==============================] - 2s 45ms/step - loss: 0.0477 - acc: 0.9881 - val_loss: 1.6379 - val_acc: 0.6927\n",
      "\n",
      "Epoch 00046: val_acc did not improve from 0.77487\n",
      "Epoch 47/1000\n",
      "54/54 [==============================] - 2s 46ms/step - loss: 0.1298 - acc: 0.9591 - val_loss: 0.8756 - val_acc: 0.6902\n",
      "\n",
      "Epoch 00047: val_acc did not improve from 0.77487\n",
      "Epoch 48/1000\n",
      "54/54 [==============================] - 2s 46ms/step - loss: 0.2639 - acc: 0.8955 - val_loss: 1.2139 - val_acc: 0.6714\n",
      "\n",
      "Epoch 00048: val_acc did not improve from 0.77487\n",
      "Epoch 49/1000\n",
      "54/54 [==============================] - 2s 46ms/step - loss: 0.1787 - acc: 0.9336 - val_loss: 1.1603 - val_acc: 0.6828\n",
      "\n",
      "Epoch 00049: val_acc did not improve from 0.77487\n",
      "Epoch 50/1000\n",
      "54/54 [==============================] - 2s 46ms/step - loss: 0.1496 - acc: 0.9514 - val_loss: 1.2931 - val_acc: 0.6753\n",
      "\n",
      "Epoch 00050: val_acc did not improve from 0.77487\n",
      "Epoch 51/1000\n",
      "54/54 [==============================] - 2s 45ms/step - loss: 0.1043 - acc: 0.9695 - val_loss: 1.4378 - val_acc: 0.6407\n",
      "\n",
      "Epoch 00051: val_acc did not improve from 0.77487\n",
      "Epoch 52/1000\n",
      "54/54 [==============================] - 2s 46ms/step - loss: 0.0975 - acc: 0.9692 - val_loss: 1.5583 - val_acc: 0.6469\n",
      "\n",
      "Epoch 00052: val_acc did not improve from 0.77487\n",
      "Epoch 53/1000\n",
      "54/54 [==============================] - 2s 45ms/step - loss: 0.0716 - acc: 0.9814 - val_loss: 1.5931 - val_acc: 0.6512\n",
      "\n",
      "Epoch 00053: val_acc did not improve from 0.77487\n",
      "Epoch 54/1000\n",
      "54/54 [==============================] - 2s 45ms/step - loss: 0.0623 - acc: 0.9848 - val_loss: 1.4685 - val_acc: 0.6569\n",
      "\n",
      "Epoch 00054: val_acc did not improve from 0.77487\n",
      "Epoch 55/1000\n",
      "54/54 [==============================] - 2s 46ms/step - loss: 0.0746 - acc: 0.9774 - val_loss: 1.5398 - val_acc: 0.6449\n",
      "\n",
      "Epoch 00055: val_acc did not improve from 0.77487\n",
      "Epoch 56/1000\n",
      "54/54 [==============================] - 2s 45ms/step - loss: 0.0695 - acc: 0.9823 - val_loss: 1.9092 - val_acc: 0.6156\n",
      "\n",
      "Epoch 00056: val_acc did not improve from 0.77487\n",
      "Epoch 57/1000\n",
      "54/54 [==============================] - 2s 45ms/step - loss: 0.0507 - acc: 0.9880 - val_loss: 1.6204 - val_acc: 0.6552\n",
      "\n",
      "Epoch 00057: val_acc did not improve from 0.77487\n",
      "Epoch 58/1000\n",
      "54/54 [==============================] - 2s 46ms/step - loss: 0.0524 - acc: 0.9865 - val_loss: 1.8518 - val_acc: 0.6324\n",
      "\n",
      "Epoch 00058: val_acc did not improve from 0.77487\n",
      "Epoch 59/1000\n",
      "54/54 [==============================] - 2s 45ms/step - loss: 0.0526 - acc: 0.9864 - val_loss: 1.5274 - val_acc: 0.6726\n",
      "\n",
      "Epoch 00059: val_acc did not improve from 0.77487\n",
      "Epoch 60/1000\n",
      "54/54 [==============================] - 2s 46ms/step - loss: 0.0511 - acc: 0.9865 - val_loss: 1.6338 - val_acc: 0.6595\n",
      "\n",
      "Epoch 00060: val_acc did not improve from 0.77487\n",
      "Epoch 61/1000\n",
      "54/54 [==============================] - 2s 45ms/step - loss: 0.0433 - acc: 0.9887 - val_loss: 1.5762 - val_acc: 0.6751\n",
      "\n",
      "Epoch 00061: val_acc did not improve from 0.77487\n",
      "Epoch 62/1000\n",
      "54/54 [==============================] - 3s 47ms/step - loss: 0.0464 - acc: 0.9892 - val_loss: 1.5394 - val_acc: 0.6745\n",
      "\n",
      "Epoch 00062: val_acc did not improve from 0.77487\n",
      "Epoch 63/1000\n",
      "54/54 [==============================] - 2s 46ms/step - loss: 0.0534 - acc: 0.9871 - val_loss: 1.2209 - val_acc: 0.7289\n",
      "\n",
      "Epoch 00063: val_acc did not improve from 0.77487\n",
      "Epoch 64/1000\n",
      "54/54 [==============================] - 3s 61ms/step - loss: 0.0528 - acc: 0.9869 - val_loss: 1.7490 - val_acc: 0.6422\n",
      "\n",
      "Epoch 00064: val_acc did not improve from 0.77487\n",
      "Epoch 65/1000\n",
      "54/54 [==============================] - 2s 46ms/step - loss: 0.0437 - acc: 0.9901 - val_loss: 1.8184 - val_acc: 0.6145\n",
      "\n",
      "Epoch 00065: val_acc did not improve from 0.77487\n",
      "Epoch 66/1000\n",
      "54/54 [==============================] - 2s 45ms/step - loss: 0.0525 - acc: 0.9863 - val_loss: 1.5040 - val_acc: 0.6699\n",
      "\n",
      "Epoch 00066: val_acc did not improve from 0.77487\n",
      "Epoch 00066: early stopping\n"
     ]
    }
   ],
   "source": [
    "es = EarlyStopping(monitor='val_loss', mode='min', verbose=1, patience=50)\n",
    "mc = ModelCheckpoint('./models/best_lstmb.h5', monitor='val_acc', verbose=1, mode='max',  save_best_only=True)\n",
    "\n",
    "balanced_history_lstm = lstm_model_balance.fit_generator(generator=training_generator, \n",
    "                                                         steps_per_epoch=steps_per_epoch,\n",
    "                                                         epochs=1000, \n",
    "                                                         verbose=1, \n",
    "                                                         validation_data=(X_test, y_test_balance),\n",
    "                                                         callbacks=[es, mc])"
   ]
  },
  {
   "cell_type": "code",
   "execution_count": 66,
   "metadata": {},
   "outputs": [
    {
     "name": "stdout",
     "output_type": "stream",
     "text": [
      "3720/3720 [==============================] - 2s 517us/step\n"
     ]
    },
    {
     "data": {
      "text/plain": [
       "[0.5700675519563818, 0.7748655676841736]"
      ]
     },
     "execution_count": 66,
     "metadata": {},
     "output_type": "execute_result"
    }
   ],
   "source": [
    "lstm_model_balance = load_model('./models/best_lstmb.h5')\n",
    "lstm_model_balance.evaluate(X_test, y_test_balance)"
   ]
  },
  {
   "cell_type": "code",
   "execution_count": 67,
   "metadata": {},
   "outputs": [
    {
     "data": {
      "image/png": "[encoded data removed]",
      "text/plain": [
       "<Figure size 1440x1080 with 1 Axes>"
      ]
     },
     "metadata": {
      "needs_background": "light"
     },
     "output_type": "display_data"
    }
   ],
   "source": [
    "plt.figure(figsize=(20,15))\n",
    "plt.plot(balanced_history_lstm.history['acc'])\n",
    "plt.plot(balanced_history_lstm.history['val_acc'])\n",
    "plt.plot(balanced_history_lstm.history['loss'])\n",
    "plt.plot(balanced_history_lstm.history['val_loss'])\n",
    "plt.legend(['acc','val_acc','loss','val_loss'])\n",
    "plt.show()"
   ]
  },
  {
   "cell_type": "code",
   "execution_count": null,
   "metadata": {},
   "outputs": [],
   "source": []
  },
  {
   "cell_type": "code",
   "execution_count": 68,
   "metadata": {},
   "outputs": [
    {
     "data": {
      "image/png": "[encoded data removed]",
      "text/plain": [
       "<Figure size 1080x720 with 2 Axes>"
      ]
     },
     "metadata": {
      "needs_background": "light"
     },
     "output_type": "display_data"
    }
   ],
   "source": [
    "plt.figure(figsize=(15,10))\n",
    "plt.subplot(2,1,1)\n",
    "plt.plot(lstm_history.history['acc'])\n",
    "plt.plot(lstm_history.history['val_acc'])\n",
    "plt.title('LSTM model accuracy')\n",
    "plt.ylabel('Accuracy')\n",
    "plt.xlabel('Epoch')\n",
    "plt.legend(['train','test'], loc='upper left')\n",
    "\n",
    "plt.subplot(2,1,2)\n",
    "plt.plot(lstm_history.history['loss'])\n",
    "plt.plot(lstm_history.history['val_loss'])\n",
    "plt.title('LSTM model loss')\n",
    "plt.ylabel('Loss')\n",
    "plt.xlabel('Epoch')\n",
    "plt.legend(['train','test'], loc='upper left')\n",
    "plt.show()"
   ]
  },
  {
   "cell_type": "code",
   "execution_count": 69,
   "metadata": {},
   "outputs": [
    {
     "data": {
      "text/plain": [
       "array([0.99997735], dtype=float32)"
      ]
     },
     "execution_count": 69,
     "metadata": {},
     "output_type": "execute_result"
    }
   ],
   "source": [
    "lstm_model.predict(X_test)[2]"
   ]
  },
  {
   "cell_type": "markdown",
   "metadata": {},
   "source": [
    "# Bidirectional LSTM"
   ]
  },
  {
   "cell_type": "code",
   "execution_count": 74,
   "metadata": {},
   "outputs": [],
   "source": [
    "bi = Sequential()\n",
    "embedding_layer = Embedding(vocab_size, 100, weights=[embedding_matrix], input_length=maxlen , trainable=False)\n",
    "\n",
    "bi.add(embedding_layer)\n",
    "bi.add(Bidirectional(LSTM(128)))\n",
    "bi.add(Dense(128))\n",
    "bi.add(Activation('relu'))\n",
    "\n",
    "\n",
    "bi.add(Dense(1, activation='sigmoid'))\n",
    "       \n",
    "bi.compile(optimizer='adam', loss='binary_crossentropy', metrics=['acc'])       "
   ]
  },
  {
   "cell_type": "code",
   "execution_count": 75,
   "metadata": {},
   "outputs": [
    {
     "name": "stdout",
     "output_type": "stream",
     "text": [
      "Model: \"sequential_13\"\n",
      "_________________________________________________________________\n",
      "Layer (type)                 Output Shape              Param #   \n",
      "=================================================================\n",
      "embedding_13 (Embedding)     (None, 65, 100)           2441300   \n",
      "_________________________________________________________________\n",
      "bidirectional_2 (Bidirection (None, 256)               234496    \n",
      "_________________________________________________________________\n",
      "dense_26 (Dense)             (None, 128)               32896     \n",
      "_________________________________________________________________\n",
      "activation_11 (Activation)   (None, 128)               0         \n",
      "_________________________________________________________________\n",
      "dense_27 (Dense)             (None, 1)                 129       \n",
      "=================================================================\n",
      "Total params: 2,708,821\n",
      "Trainable params: 267,521\n",
      "Non-trainable params: 2,441,300\n",
      "_________________________________________________________________\n",
      "None\n"
     ]
    }
   ],
   "source": [
    "print(bi.summary())"
   ]
  },
  {
   "cell_type": "code",
   "execution_count": 76,
   "metadata": {
    "scrolled": true
   },
   "outputs": [
    {
     "name": "stdout",
     "output_type": "stream",
     "text": [
      "\n",
      "Epoch 00001: val_acc improved from -inf to 0.86828, saving model to ./models/best_bi.h5\n",
      "\n",
      "Epoch 00002: val_acc improved from 0.86828 to 0.86962, saving model to ./models/best_bi.h5\n",
      "\n",
      "Epoch 00003: val_acc improved from 0.86962 to 0.88239, saving model to ./models/best_bi.h5\n",
      "\n",
      "Epoch 00004: val_acc did not improve from 0.88239\n",
      "\n",
      "Epoch 00005: val_acc did not improve from 0.88239\n",
      "\n",
      "Epoch 00006: val_acc improved from 0.88239 to 0.89113, saving model to ./models/best_bi.h5\n",
      "\n",
      "Epoch 00007: val_acc did not improve from 0.89113\n",
      "\n",
      "Epoch 00008: val_acc improved from 0.89113 to 0.89247, saving model to ./models/best_bi.h5\n",
      "\n",
      "Epoch 00009: val_acc did not improve from 0.89247\n",
      "\n",
      "Epoch 00010: val_acc did not improve from 0.89247\n",
      "\n",
      "Epoch 00011: val_acc did not improve from 0.89247\n",
      "\n",
      "Epoch 00012: val_acc did not improve from 0.89247\n",
      "\n",
      "Epoch 00013: val_acc did not improve from 0.89247\n",
      "\n",
      "Epoch 00014: val_acc did not improve from 0.89247\n",
      "\n",
      "Epoch 00015: val_acc did not improve from 0.89247\n",
      "\n",
      "Epoch 00016: val_acc did not improve from 0.89247\n",
      "\n",
      "Epoch 00017: val_acc did not improve from 0.89247\n",
      "\n",
      "Epoch 00018: val_acc did not improve from 0.89247\n",
      "\n",
      "Epoch 00019: val_acc did not improve from 0.89247\n",
      "\n",
      "Epoch 00020: val_acc did not improve from 0.89247\n",
      "\n",
      "Epoch 00021: val_acc did not improve from 0.89247\n",
      "\n",
      "Epoch 00022: val_acc did not improve from 0.89247\n",
      "\n",
      "Epoch 00023: val_acc improved from 0.89247 to 0.89415, saving model to ./models/best_bi.h5\n",
      "\n",
      "Epoch 00024: val_acc did not improve from 0.89415\n",
      "\n",
      "Epoch 00025: val_acc did not improve from 0.89415\n",
      "\n",
      "Epoch 00026: val_acc did not improve from 0.89415\n",
      "\n",
      "Epoch 00027: val_acc did not improve from 0.89415\n",
      "\n",
      "Epoch 00028: val_acc improved from 0.89415 to 0.89550, saving model to ./models/best_bi.h5\n",
      "\n",
      "Epoch 00029: val_acc did not improve from 0.89550\n",
      "\n",
      "Epoch 00030: val_acc improved from 0.89550 to 0.89583, saving model to ./models/best_bi.h5\n",
      "\n",
      "Epoch 00031: val_acc did not improve from 0.89583\n",
      "\n",
      "Epoch 00032: val_acc improved from 0.89583 to 0.89684, saving model to ./models/best_bi.h5\n",
      "\n",
      "Epoch 00033: val_acc did not improve from 0.89684\n",
      "\n",
      "Epoch 00034: val_acc did not improve from 0.89684\n",
      "\n",
      "Epoch 00035: val_acc did not improve from 0.89684\n",
      "\n",
      "Epoch 00036: val_acc did not improve from 0.89684\n",
      "\n",
      "Epoch 00037: val_acc did not improve from 0.89684\n",
      "\n",
      "Epoch 00038: val_acc did not improve from 0.89684\n",
      "\n",
      "Epoch 00039: val_acc did not improve from 0.89684\n",
      "\n",
      "Epoch 00040: val_acc improved from 0.89684 to 0.89751, saving model to ./models/best_bi.h5\n",
      "\n",
      "Epoch 00041: val_acc did not improve from 0.89751\n",
      "\n",
      "Epoch 00042: val_acc did not improve from 0.89751\n",
      "\n",
      "Epoch 00043: val_acc did not improve from 0.89751\n",
      "\n",
      "Epoch 00044: val_acc did not improve from 0.89751\n",
      "\n",
      "Epoch 00045: val_acc did not improve from 0.89751\n",
      "\n",
      "Epoch 00046: val_acc did not improve from 0.89751\n",
      "\n",
      "Epoch 00047: val_acc did not improve from 0.89751\n",
      "\n",
      "Epoch 00048: val_acc did not improve from 0.89751\n",
      "\n",
      "Epoch 00049: val_acc did not improve from 0.89751\n",
      "\n",
      "Epoch 00050: val_acc did not improve from 0.89751\n",
      "\n",
      "Epoch 00051: val_acc did not improve from 0.89751\n",
      "\n",
      "Epoch 00052: val_acc did not improve from 0.89751\n",
      "\n",
      "Epoch 00053: val_acc did not improve from 0.89751\n",
      "\n",
      "Epoch 00054: val_acc did not improve from 0.89751\n",
      "Epoch 00054: early stopping\n",
      "3720/3720 [==============================] - 3s 854us/step\n"
     ]
    }
   ],
   "source": [
    "es = EarlyStopping(monitor='val_loss', mode='min', verbose=1, patience=50)\n",
    "mc = ModelCheckpoint('./models/best_bi.h5', monitor='val_acc', verbose=1, mode='max',  save_best_only=True)\n",
    "\n",
    "bi_history = bi.fit(X_train, \n",
    "                    y_train, \n",
    "                    batch_size=128, \n",
    "                    epochs=1000, \n",
    "                    verbose=0,\n",
    "                    validation_split=0.2, \n",
    "                    callbacks=[mc,es])\n",
    "\n",
    "bi_score = bi.evaluate(X_test, y_test, verbose=1)"
   ]
  },
  {
   "cell_type": "code",
   "execution_count": 77,
   "metadata": {},
   "outputs": [
    {
     "name": "stdout",
     "output_type": "stream",
     "text": [
      "Test Score: 0.8621046031875316\n",
      "Test Accuracy: 0.8879032135009766\n"
     ]
    }
   ],
   "source": [
    "print(\"Test Score:\", bi_score[0])\n",
    "print(\"Test Accuracy:\", bi_score[1])"
   ]
  },
  {
   "cell_type": "markdown",
   "metadata": {},
   "source": [
    "## Balance"
   ]
  },
  {
   "cell_type": "code",
   "execution_count": 91,
   "metadata": {},
   "outputs": [],
   "source": [
    "bi_balance = Sequential()\n",
    "\n",
    "embedding_layer = Embedding(vocab_size, 100, weights=[embedding_matrix], input_length=maxlen , trainable=False)\n",
    "\n",
    "bi_balance.add(embedding_layer)\n",
    "bi_balance.add(Bidirectional(LSTM(128)))\n",
    "bi_balance.add(Dense(128))\n",
    "bi_balance.add(Activation('relu'))\n",
    "bi_balance.add(Dense(2, activation='sigmoid'))\n",
    "       \n",
    "bi_balance.compile(optimizer='adam', loss='binary_crossentropy', metrics=['acc'])       "
   ]
  },
  {
   "cell_type": "code",
   "execution_count": 92,
   "metadata": {
    "scrolled": true
   },
   "outputs": [
    {
     "name": "stdout",
     "output_type": "stream",
     "text": [
      "\n",
      "Epoch 00001: val_acc improved from -inf to 0.60255, saving model to ./models/best_bib.h5\n",
      "\n",
      "Epoch 00002: val_acc improved from 0.60255 to 0.60484, saving model to ./models/best_bib.h5\n",
      "\n",
      "Epoch 00003: val_acc improved from 0.60484 to 0.62312, saving model to ./models/best_bib.h5\n",
      "\n",
      "Epoch 00004: val_acc improved from 0.62312 to 0.64597, saving model to ./models/best_bib.h5\n",
      "\n",
      "Epoch 00005: val_acc did not improve from 0.64597\n",
      "\n",
      "Epoch 00006: val_acc improved from 0.64597 to 0.66048, saving model to ./models/best_bib.h5\n",
      "\n",
      "Epoch 00007: val_acc improved from 0.66048 to 0.69099, saving model to ./models/best_bib.h5\n",
      "\n",
      "Epoch 00008: val_acc improved from 0.69099 to 0.78508, saving model to ./models/best_bib.h5\n",
      "\n",
      "Epoch 00009: val_acc did not improve from 0.78508\n",
      "\n",
      "Epoch 00010: val_acc did not improve from 0.78508\n",
      "\n",
      "Epoch 00011: val_acc did not improve from 0.78508\n",
      "\n",
      "Epoch 00012: val_acc did not improve from 0.78508\n",
      "\n",
      "Epoch 00013: val_acc did not improve from 0.78508\n",
      "\n",
      "Epoch 00014: val_acc did not improve from 0.78508\n",
      "\n",
      "Epoch 00015: val_acc did not improve from 0.78508\n",
      "\n",
      "Epoch 00016: val_acc did not improve from 0.78508\n",
      "\n",
      "Epoch 00017: val_acc did not improve from 0.78508\n",
      "\n",
      "Epoch 00018: val_acc did not improve from 0.78508\n",
      "\n",
      "Epoch 00019: val_acc did not improve from 0.78508\n",
      "\n",
      "Epoch 00020: val_acc improved from 0.78508 to 0.83750, saving model to ./models/best_bib.h5\n",
      "\n",
      "Epoch 00021: val_acc improved from 0.83750 to 0.83817, saving model to ./models/best_bib.h5\n",
      "\n",
      "Epoch 00022: val_acc did not improve from 0.83817\n",
      "\n",
      "Epoch 00023: val_acc did not improve from 0.83817\n",
      "\n",
      "Epoch 00024: val_acc did not improve from 0.83817\n",
      "\n",
      "Epoch 00025: val_acc did not improve from 0.83817\n",
      "\n",
      "Epoch 00026: val_acc did not improve from 0.83817\n",
      "\n",
      "Epoch 00027: val_acc did not improve from 0.83817\n",
      "\n",
      "Epoch 00028: val_acc did not improve from 0.83817\n",
      "\n",
      "Epoch 00029: val_acc did not improve from 0.83817\n",
      "\n",
      "Epoch 00030: val_acc did not improve from 0.83817\n",
      "\n",
      "Epoch 00031: val_acc did not improve from 0.83817\n",
      "\n",
      "Epoch 00032: val_acc did not improve from 0.83817\n",
      "\n",
      "Epoch 00033: val_acc did not improve from 0.83817\n",
      "\n",
      "Epoch 00034: val_acc did not improve from 0.83817\n",
      "\n",
      "Epoch 00035: val_acc did not improve from 0.83817\n",
      "\n",
      "Epoch 00036: val_acc did not improve from 0.83817\n",
      "\n",
      "Epoch 00037: val_acc did not improve from 0.83817\n",
      "\n",
      "Epoch 00038: val_acc did not improve from 0.83817\n",
      "\n",
      "Epoch 00039: val_acc did not improve from 0.83817\n",
      "\n",
      "Epoch 00040: val_acc did not improve from 0.83817\n",
      "\n",
      "Epoch 00041: val_acc did not improve from 0.83817\n",
      "\n",
      "Epoch 00042: val_acc did not improve from 0.83817\n",
      "\n",
      "Epoch 00043: val_acc did not improve from 0.83817\n",
      "\n",
      "Epoch 00044: val_acc did not improve from 0.83817\n",
      "\n",
      "Epoch 00045: val_acc did not improve from 0.83817\n",
      "\n",
      "Epoch 00046: val_acc did not improve from 0.83817\n",
      "\n",
      "Epoch 00047: val_acc did not improve from 0.83817\n",
      "\n",
      "Epoch 00048: val_acc did not improve from 0.83817\n",
      "\n",
      "Epoch 00049: val_acc did not improve from 0.83817\n",
      "\n",
      "Epoch 00050: val_acc did not improve from 0.83817\n",
      "3720/3720 [==============================] - 3s 822us/step\n"
     ]
    }
   ],
   "source": [
    "es = EarlyStopping(monitor='val_loss', mode='min', verbose=1, patience=50)\n",
    "mc = ModelCheckpoint('./models/best_bib.h5', monitor='val_acc', verbose=1, mode='max',  save_best_only=True)\n",
    "\n",
    "balanced_history_bi= bi_balance.fit_generator(generator=training_generator, \n",
    "                                                         steps_per_epoch=steps_per_epoch,\n",
    "                                                         epochs=10000, \n",
    "                                                         verbose=0, \n",
    "                                                         validation_data=(X_test, y_test_balance),\n",
    "                                                         callbacks=[es,mc])\n",
    "\n",
    "bi_score = bi_balance.evaluate(X_test, y_test_balance, verbose=1)"
   ]
  },
  {
   "cell_type": "code",
   "execution_count": 93,
   "metadata": {},
   "outputs": [
    {
     "name": "stdout",
     "output_type": "stream",
     "text": [
      "Test Score: 2.1170851784367715\n",
      "Test Accuracy: 0.7552419304847717\n"
     ]
    }
   ],
   "source": [
    "print(\"Test Score:\", bi_score[0])\n",
    "print(\"Test Accuracy:\", bi_score[1])"
   ]
  },
  {
   "cell_type": "markdown",
   "metadata": {},
   "source": [
    "## GRU"
   ]
  },
  {
   "cell_type": "code",
   "execution_count": 83,
   "metadata": {},
   "outputs": [],
   "source": [
    "gru = Sequential()\n",
    "embedding_layer = Embedding(vocab_size, 100, weights=[embedding_matrix], input_length=maxlen , trainable=False)\n",
    "\n",
    "gru.add(embedding_layer)\n",
    "gru.add(GRU(128))\n",
    "gru.add(Dense(128))\n",
    "gru.add(Activation('relu'))\n",
    "\n",
    "\n",
    "gru.add(Dense(1, activation='sigmoid'))\n",
    "       \n",
    "gru.compile(optimizer='adam', loss='binary_crossentropy', metrics=['acc'])    "
   ]
  },
  {
   "cell_type": "code",
   "execution_count": 85,
   "metadata": {},
   "outputs": [
    {
     "name": "stdout",
     "output_type": "stream",
     "text": [
      "Model: \"sequential_16\"\n",
      "_________________________________________________________________\n",
      "Layer (type)                 Output Shape              Param #   \n",
      "=================================================================\n",
      "embedding_16 (Embedding)     (None, 65, 100)           2441300   \n",
      "_________________________________________________________________\n",
      "gru_1 (GRU)                  (None, 128)               87936     \n",
      "_________________________________________________________________\n",
      "dense_30 (Dense)             (None, 128)               16512     \n",
      "_________________________________________________________________\n",
      "activation_12 (Activation)   (None, 128)               0         \n",
      "_________________________________________________________________\n",
      "dense_31 (Dense)             (None, 1)                 129       \n",
      "=================================================================\n",
      "Total params: 2,545,877\n",
      "Trainable params: 104,577\n",
      "Non-trainable params: 2,441,300\n",
      "_________________________________________________________________\n"
     ]
    }
   ],
   "source": [
    "gru.summary()"
   ]
  },
  {
   "cell_type": "code",
   "execution_count": 84,
   "metadata": {
    "scrolled": true
   },
   "outputs": [
    {
     "name": "stdout",
     "output_type": "stream",
     "text": [
      "\n",
      "Epoch 00001: val_acc improved from -inf to 0.89113, saving model to ./models/best_gru.h5\n",
      "\n",
      "Epoch 00002: val_acc did not improve from 0.89113\n",
      "\n",
      "Epoch 00003: val_acc improved from 0.89113 to 0.89180, saving model to ./models/best_gru.h5\n",
      "\n",
      "Epoch 00004: val_acc did not improve from 0.89180\n",
      "\n",
      "Epoch 00005: val_acc did not improve from 0.89180\n",
      "\n",
      "Epoch 00006: val_acc did not improve from 0.89180\n",
      "\n",
      "Epoch 00007: val_acc improved from 0.89180 to 0.89281, saving model to ./models/best_gru.h5\n",
      "\n",
      "Epoch 00008: val_acc did not improve from 0.89281\n",
      "\n",
      "Epoch 00009: val_acc did not improve from 0.89281\n",
      "\n",
      "Epoch 00010: val_acc did not improve from 0.89281\n",
      "\n",
      "Epoch 00011: val_acc did not improve from 0.89281\n",
      "\n",
      "Epoch 00012: val_acc did not improve from 0.89281\n",
      "\n",
      "Epoch 00013: val_acc did not improve from 0.89281\n",
      "\n",
      "Epoch 00014: val_acc did not improve from 0.89281\n",
      "\n",
      "Epoch 00015: val_acc improved from 0.89281 to 0.89315, saving model to ./models/best_gru.h5\n",
      "\n",
      "Epoch 00016: val_acc did not improve from 0.89315\n",
      "\n",
      "Epoch 00017: val_acc did not improve from 0.89315\n",
      "\n",
      "Epoch 00018: val_acc did not improve from 0.89315\n",
      "\n",
      "Epoch 00019: val_acc did not improve from 0.89315\n",
      "\n",
      "Epoch 00020: val_acc did not improve from 0.89315\n",
      "\n",
      "Epoch 00021: val_acc did not improve from 0.89315\n",
      "\n",
      "Epoch 00022: val_acc did not improve from 0.89315\n",
      "\n",
      "Epoch 00023: val_acc did not improve from 0.89315\n",
      "\n",
      "Epoch 00024: val_acc did not improve from 0.89315\n",
      "\n",
      "Epoch 00025: val_acc did not improve from 0.89315\n",
      "\n",
      "Epoch 00026: val_acc did not improve from 0.89315\n",
      "\n",
      "Epoch 00027: val_acc did not improve from 0.89315\n",
      "\n",
      "Epoch 00028: val_acc did not improve from 0.89315\n",
      "\n",
      "Epoch 00029: val_acc did not improve from 0.89315\n",
      "\n",
      "Epoch 00030: val_acc improved from 0.89315 to 0.89348, saving model to ./models/best_gru.h5\n",
      "\n",
      "Epoch 00031: val_acc did not improve from 0.89348\n",
      "\n",
      "Epoch 00032: val_acc did not improve from 0.89348\n",
      "\n",
      "Epoch 00033: val_acc did not improve from 0.89348\n",
      "\n",
      "Epoch 00034: val_acc did not improve from 0.89348\n",
      "\n",
      "Epoch 00035: val_acc improved from 0.89348 to 0.89382, saving model to ./models/best_gru.h5\n",
      "\n",
      "Epoch 00036: val_acc did not improve from 0.89382\n",
      "\n",
      "Epoch 00037: val_acc did not improve from 0.89382\n",
      "\n",
      "Epoch 00038: val_acc did not improve from 0.89382\n",
      "\n",
      "Epoch 00039: val_acc did not improve from 0.89382\n",
      "\n",
      "Epoch 00040: val_acc did not improve from 0.89382\n",
      "\n",
      "Epoch 00041: val_acc did not improve from 0.89382\n",
      "\n",
      "Epoch 00042: val_acc did not improve from 0.89382\n",
      "\n",
      "Epoch 00043: val_acc did not improve from 0.89382\n",
      "\n",
      "Epoch 00044: val_acc did not improve from 0.89382\n",
      "\n",
      "Epoch 00045: val_acc did not improve from 0.89382\n",
      "\n",
      "Epoch 00046: val_acc did not improve from 0.89382\n",
      "\n",
      "Epoch 00047: val_acc did not improve from 0.89382\n",
      "\n",
      "Epoch 00048: val_acc did not improve from 0.89382\n",
      "\n",
      "Epoch 00049: val_acc did not improve from 0.89382\n",
      "\n",
      "Epoch 00050: val_acc did not improve from 0.89382\n",
      "\n",
      "Epoch 00051: val_acc did not improve from 0.89382\n",
      "\n",
      "Epoch 00052: val_acc did not improve from 0.89382\n",
      "\n",
      "Epoch 00053: val_acc did not improve from 0.89382\n",
      "\n",
      "Epoch 00054: val_acc did not improve from 0.89382\n",
      "\n",
      "Epoch 00055: val_acc did not improve from 0.89382\n",
      "\n",
      "Epoch 00056: val_acc did not improve from 0.89382\n",
      "\n",
      "Epoch 00057: val_acc did not improve from 0.89382\n",
      "\n",
      "Epoch 00058: val_acc did not improve from 0.89382\n",
      "\n",
      "Epoch 00059: val_acc did not improve from 0.89382\n",
      "\n",
      "Epoch 00060: val_acc did not improve from 0.89382\n",
      "\n",
      "Epoch 00061: val_acc did not improve from 0.89382\n",
      "\n",
      "Epoch 00062: val_acc did not improve from 0.89382\n",
      "\n",
      "Epoch 00063: val_acc did not improve from 0.89382\n",
      "\n",
      "Epoch 00064: val_acc did not improve from 0.89382\n",
      "\n",
      "Epoch 00065: val_acc did not improve from 0.89382\n",
      "\n",
      "Epoch 00066: val_acc did not improve from 0.89382\n",
      "\n",
      "Epoch 00067: val_acc did not improve from 0.89382\n",
      "\n",
      "Epoch 00068: val_acc did not improve from 0.89382\n",
      "\n",
      "Epoch 00069: val_acc did not improve from 0.89382\n",
      "\n",
      "Epoch 00070: val_acc did not improve from 0.89382\n",
      "Epoch 00070: early stopping\n",
      "3720/3720 [==============================] - 3s 840us/step\n"
     ]
    }
   ],
   "source": [
    "es = EarlyStopping(monitor='val_loss', mode='min', verbose=1, patience=50)\n",
    "mc = ModelCheckpoint('./models/best_gru.h5', monitor='val_acc', verbose=1, mode='max',  save_best_only=True)\n",
    "\n",
    "gru_history = bi.fit(X_train, \n",
    "                    y_train, \n",
    "                    batch_size=128, \n",
    "                    epochs=1000, \n",
    "                    verbose=0,\n",
    "                    validation_split=0.2, \n",
    "                    callbacks=[mc,es])\n",
    "\n",
    "gru_score = bi.evaluate(X_test, y_test, verbose=1)"
   ]
  },
  {
   "cell_type": "code",
   "execution_count": 86,
   "metadata": {},
   "outputs": [
    {
     "data": {
      "text/plain": [
       "[1.18637836772588, 0.8870967626571655]"
      ]
     },
     "execution_count": 86,
     "metadata": {},
     "output_type": "execute_result"
    }
   ],
   "source": [
    "gru_score"
   ]
  },
  {
   "cell_type": "markdown",
   "metadata": {},
   "source": [
    "### Balanced"
   ]
  },
  {
   "cell_type": "code",
   "execution_count": 89,
   "metadata": {},
   "outputs": [],
   "source": [
    "gru_balance = Sequential()\n",
    "\n",
    "embedding_layer = Embedding(vocab_size, 100, weights=[embedding_matrix], input_length=maxlen , trainable=False)\n",
    "\n",
    "gru_balance.add(embedding_layer)\n",
    "gru_balance.add(GRU(128))\n",
    "gru_balance.add(Dense(128))\n",
    "gru_balance.add(Activation('relu'))\n",
    "gru_balance.add(Dense(2, activation='sigmoid'))\n",
    "       \n",
    "gru_balance.compile(optimizer='adam', loss='binary_crossentropy', metrics=['acc']) "
   ]
  },
  {
   "cell_type": "code",
   "execution_count": 90,
   "metadata": {
    "scrolled": true
   },
   "outputs": [
    {
     "name": "stdout",
     "output_type": "stream",
     "text": [
      "\n",
      "Epoch 00001: val_acc improved from -inf to 0.75538, saving model to ./models/best_grub.h5\n",
      "\n",
      "Epoch 00002: val_acc did not improve from 0.75538\n",
      "\n",
      "Epoch 00003: val_acc did not improve from 0.75538\n",
      "\n",
      "Epoch 00004: val_acc did not improve from 0.75538\n",
      "\n",
      "Epoch 00005: val_acc did not improve from 0.75538\n",
      "\n",
      "Epoch 00006: val_acc did not improve from 0.75538\n",
      "\n",
      "Epoch 00007: val_acc did not improve from 0.75538\n",
      "\n",
      "Epoch 00008: val_acc did not improve from 0.75538\n",
      "\n",
      "Epoch 00009: val_acc did not improve from 0.75538\n",
      "\n",
      "Epoch 00010: val_acc did not improve from 0.75538\n",
      "\n",
      "Epoch 00011: val_acc did not improve from 0.75538\n",
      "\n",
      "Epoch 00012: val_acc did not improve from 0.75538\n",
      "\n",
      "Epoch 00013: val_acc did not improve from 0.75538\n",
      "\n",
      "Epoch 00014: val_acc did not improve from 0.75538\n",
      "\n",
      "Epoch 00015: val_acc did not improve from 0.75538\n",
      "\n",
      "Epoch 00016: val_acc did not improve from 0.75538\n",
      "\n",
      "Epoch 00017: val_acc did not improve from 0.75538\n",
      "\n",
      "Epoch 00018: val_acc did not improve from 0.75538\n",
      "\n",
      "Epoch 00019: val_acc did not improve from 0.75538\n",
      "\n",
      "Epoch 00020: val_acc did not improve from 0.75538\n",
      "\n",
      "Epoch 00021: val_acc did not improve from 0.75538\n",
      "\n",
      "Epoch 00022: val_acc did not improve from 0.75538\n",
      "\n",
      "Epoch 00023: val_acc did not improve from 0.75538\n",
      "\n",
      "Epoch 00024: val_acc did not improve from 0.75538\n",
      "\n",
      "Epoch 00025: val_acc did not improve from 0.75538\n",
      "\n",
      "Epoch 00026: val_acc did not improve from 0.75538\n",
      "\n",
      "Epoch 00027: val_acc did not improve from 0.75538\n",
      "\n",
      "Epoch 00028: val_acc did not improve from 0.75538\n",
      "\n",
      "Epoch 00029: val_acc did not improve from 0.75538\n",
      "\n",
      "Epoch 00030: val_acc did not improve from 0.75538\n",
      "\n",
      "Epoch 00031: val_acc did not improve from 0.75538\n",
      "\n",
      "Epoch 00032: val_acc did not improve from 0.75538\n",
      "\n",
      "Epoch 00033: val_acc did not improve from 0.75538\n",
      "\n",
      "Epoch 00034: val_acc did not improve from 0.75538\n",
      "\n",
      "Epoch 00035: val_acc did not improve from 0.75538\n",
      "\n",
      "Epoch 00036: val_acc did not improve from 0.75538\n",
      "\n",
      "Epoch 00037: val_acc did not improve from 0.75538\n",
      "\n",
      "Epoch 00038: val_acc did not improve from 0.75538\n",
      "\n",
      "Epoch 00039: val_acc did not improve from 0.75538\n",
      "\n",
      "Epoch 00040: val_acc did not improve from 0.75538\n",
      "\n",
      "Epoch 00041: val_acc did not improve from 0.75538\n",
      "\n",
      "Epoch 00042: val_acc did not improve from 0.75538\n",
      "\n",
      "Epoch 00043: val_acc did not improve from 0.75538\n",
      "\n",
      "Epoch 00044: val_acc did not improve from 0.75538\n",
      "\n",
      "Epoch 00045: val_acc did not improve from 0.75538\n",
      "\n",
      "Epoch 00046: val_acc did not improve from 0.75538\n",
      "\n",
      "Epoch 00047: val_acc did not improve from 0.75538\n",
      "\n",
      "Epoch 00048: val_acc did not improve from 0.75538\n",
      "\n",
      "Epoch 00049: val_acc did not improve from 0.75538\n",
      "\n",
      "Epoch 00050: val_acc did not improve from 0.75538\n",
      "3720/3720 [==============================] - 2s 599us/step\n"
     ]
    },
    {
     "data": {
      "text/plain": [
       "[0.6943687890165595, 0.24489247798919678]"
      ]
     },
     "execution_count": 90,
     "metadata": {},
     "output_type": "execute_result"
    }
   ],
   "source": [
    "es = EarlyStopping(monitor='val_loss', mode='min', verbose=1, patience=50)\n",
    "mc = ModelCheckpoint('./models/best_grub.h5', monitor='val_acc', verbose=1, mode='max',  save_best_only=True)\n",
    "\n",
    "balanced_history_gru= gru_balance.fit_generator(generator=training_generator, \n",
    "                                                         steps_per_epoch=steps_per_epoch, \n",
    "                                                         epochs=1000, \n",
    "                                                         verbose=0, \n",
    "                                                         validation_data=(X_test, y_test_balance),\n",
    "                                                         callbacks=[es,mc])\n",
    "\n",
    "grub_score = gru_balance.evaluate(X_test, y_test_balance, verbose=1)\n",
    "grub_score"
   ]
  },
  {
   "cell_type": "code",
   "execution_count": null,
   "metadata": {},
   "outputs": [],
   "source": []
  }
 ],
 "metadata": {
  "kernelspec": {
   "display_name": "Python 3",
   "language": "python",
   "name": "python3"
  },
  "language_info": {
   "codemirror_mode": {
    "name": "ipython",
    "version": 3
   },
   "file_extension": ".py",
   "mimetype": "text/x-python",
   "name": "python",
   "nbconvert_exporter": "python",
   "pygments_lexer": "ipython3",
   "version": "3.7.4"
  }
 },
 "nbformat": 4,
 "nbformat_minor": 2
}
