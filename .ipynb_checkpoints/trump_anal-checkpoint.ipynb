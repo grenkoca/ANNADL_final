{
 "cells": [
  {
   "cell_type": "markdown",
   "metadata": {},
   "source": [
    "# Trump Twitter Analysis\n",
    "\n"
   ]
  },
  {
   "cell_type": "code",
   "execution_count": null,
   "metadata": {},
   "outputs": [
    {
     "name": "stderr",
     "output_type": "stream",
     "text": [
      "/home/dalbosta/anaconda3/lib/python3.7/site-packages/tensorflow/python/framework/dtypes.py:516: FutureWarning: Passing (type, 1) or '1type' as a synonym of type is deprecated; in a future version of numpy, it will be understood as (type, (1,)) / '(1,)type'.\n",
      "  _np_qint8 = np.dtype([(\"qint8\", np.int8, 1)])\n",
      "/home/dalbosta/anaconda3/lib/python3.7/site-packages/tensorflow/python/framework/dtypes.py:517: FutureWarning: Passing (type, 1) or '1type' as a synonym of type is deprecated; in a future version of numpy, it will be understood as (type, (1,)) / '(1,)type'.\n",
      "  _np_quint8 = np.dtype([(\"quint8\", np.uint8, 1)])\n",
      "/home/dalbosta/anaconda3/lib/python3.7/site-packages/tensorflow/python/framework/dtypes.py:518: FutureWarning: Passing (type, 1) or '1type' as a synonym of type is deprecated; in a future version of numpy, it will be understood as (type, (1,)) / '(1,)type'.\n",
      "  _np_qint16 = np.dtype([(\"qint16\", np.int16, 1)])\n",
      "/home/dalbosta/anaconda3/lib/python3.7/site-packages/tensorflow/python/framework/dtypes.py:519: FutureWarning: Passing (type, 1) or '1type' as a synonym of type is deprecated; in a future version of numpy, it will be understood as (type, (1,)) / '(1,)type'.\n",
      "  _np_quint16 = np.dtype([(\"quint16\", np.uint16, 1)])\n",
      "/home/dalbosta/anaconda3/lib/python3.7/site-packages/tensorflow/python/framework/dtypes.py:520: FutureWarning: Passing (type, 1) or '1type' as a synonym of type is deprecated; in a future version of numpy, it will be understood as (type, (1,)) / '(1,)type'.\n",
      "  _np_qint32 = np.dtype([(\"qint32\", np.int32, 1)])\n",
      "/home/dalbosta/anaconda3/lib/python3.7/site-packages/tensorflow/python/framework/dtypes.py:525: FutureWarning: Passing (type, 1) or '1type' as a synonym of type is deprecated; in a future version of numpy, it will be understood as (type, (1,)) / '(1,)type'.\n",
      "  np_resource = np.dtype([(\"resource\", np.ubyte, 1)])\n"
     ]
    }
   ],
   "source": [
    "import os\n",
    "import numpy as np\n",
    "import tensorflow as tf\n",
    "import pandas as pd"
   ]
  },
  {
   "cell_type": "code",
   "execution_count": null,
   "metadata": {},
   "outputs": [],
   "source": [
    "# configs\n",
    "DATAFILE = 'trump_tweets_11_17.json'"
   ]
  },
  {
   "cell_type": "code",
   "execution_count": null,
   "metadata": {},
   "outputs": [],
   "source": [
    "# read in json file as pd dataframe\n",
    "trump_tweets = pd.read_json(DATAFILE)\n",
    "print('number of rows: %d' % trump_tweets.shape[0])"
   ]
  },
  {
   "cell_type": "code",
   "execution_count": null,
   "metadata": {},
   "outputs": [],
   "source": [
    "# id_str column is unique\n",
    "print(trump_tweets['id_str'].is_unique)\n",
    "\n",
    "# set id_str as unique identifier\n",
    "trump_tweets = trump_tweets.set_index('id_str')"
   ]
  },
  {
   "cell_type": "code",
   "execution_count": 144,
   "metadata": {},
   "outputs": [
    {
     "data": {
      "text/html": [
       "<div>\n",
       "<style scoped>\n",
       "    .dataframe tbody tr th:only-of-type {\n",
       "        vertical-align: middle;\n",
       "    }\n",
       "\n",
       "    .dataframe tbody tr th {\n",
       "        vertical-align: top;\n",
       "    }\n",
       "\n",
       "    .dataframe thead th {\n",
       "        text-align: right;\n",
       "    }\n",
       "</style>\n",
       "<table border=\"1\" class=\"dataframe\">\n",
       "  <thead>\n",
       "    <tr style=\"text-align: right;\">\n",
       "      <th></th>\n",
       "      <th>created_at</th>\n",
       "      <th>favorite_count</th>\n",
       "      <th>is_retweet</th>\n",
       "      <th>retweet_count</th>\n",
       "      <th>source</th>\n",
       "      <th>text</th>\n",
       "    </tr>\n",
       "    <tr>\n",
       "      <th>id_str</th>\n",
       "      <th></th>\n",
       "      <th></th>\n",
       "      <th></th>\n",
       "      <th></th>\n",
       "      <th></th>\n",
       "      <th></th>\n",
       "    </tr>\n",
       "  </thead>\n",
       "  <tbody>\n",
       "    <tr>\n",
       "      <th>1196148537525977088</th>\n",
       "      <td>2019-11-17 19:30:09</td>\n",
       "      <td>8670</td>\n",
       "      <td>0.0</td>\n",
       "      <td>2663</td>\n",
       "      <td>Twitter for iPhone</td>\n",
       "      <td>.@SteveScalise blew the nasty &amp;amp; obnoxious ...</td>\n",
       "    </tr>\n",
       "    <tr>\n",
       "      <th>1196147508445163520</th>\n",
       "      <td>2019-11-17 19:26:04</td>\n",
       "      <td>2384</td>\n",
       "      <td>0.0</td>\n",
       "      <td>789</td>\n",
       "      <td>Twitter for iPhone</td>\n",
       "      <td>.@SteveScalese blew the nasty &amp;amp; obnoxious ...</td>\n",
       "    </tr>\n",
       "    <tr>\n",
       "      <th>1196134600227078144</th>\n",
       "      <td>2019-11-17 18:34:46</td>\n",
       "      <td>14897</td>\n",
       "      <td>0.0</td>\n",
       "      <td>4349</td>\n",
       "      <td>Twitter for iPhone</td>\n",
       "      <td>Thanks Eric! https://t.co/6Ai7bqto3P</td>\n",
       "    </tr>\n",
       "    <tr>\n",
       "      <th>1196134448183566336</th>\n",
       "      <td>2019-11-17 18:34:10</td>\n",
       "      <td>0</td>\n",
       "      <td>1.0</td>\n",
       "      <td>16239</td>\n",
       "      <td>Twitter for iPhone</td>\n",
       "      <td>RT @EricTrump: I hope no one who serves our co...</td>\n",
       "    </tr>\n",
       "    <tr>\n",
       "      <th>1196134298325266432</th>\n",
       "      <td>2019-11-17 18:33:34</td>\n",
       "      <td>0</td>\n",
       "      <td>1.0</td>\n",
       "      <td>2505</td>\n",
       "      <td>Twitter for iPhone</td>\n",
       "      <td>RT @EricTrump: Trump Washington D.C! @TrumpDC ...</td>\n",
       "    </tr>\n",
       "  </tbody>\n",
       "</table>\n",
       "</div>"
      ],
      "text/plain": [
       "                             created_at  favorite_count  is_retweet  \\\n",
       "id_str                                                                \n",
       "1196148537525977088 2019-11-17 19:30:09            8670         0.0   \n",
       "1196147508445163520 2019-11-17 19:26:04            2384         0.0   \n",
       "1196134600227078144 2019-11-17 18:34:46           14897         0.0   \n",
       "1196134448183566336 2019-11-17 18:34:10               0         1.0   \n",
       "1196134298325266432 2019-11-17 18:33:34               0         1.0   \n",
       "\n",
       "                     retweet_count              source  \\\n",
       "id_str                                                   \n",
       "1196148537525977088           2663  Twitter for iPhone   \n",
       "1196147508445163520            789  Twitter for iPhone   \n",
       "1196134600227078144           4349  Twitter for iPhone   \n",
       "1196134448183566336          16239  Twitter for iPhone   \n",
       "1196134298325266432           2505  Twitter for iPhone   \n",
       "\n",
       "                                                                  text  \n",
       "id_str                                                                  \n",
       "1196148537525977088  .@SteveScalise blew the nasty &amp; obnoxious ...  \n",
       "1196147508445163520  .@SteveScalese blew the nasty &amp; obnoxious ...  \n",
       "1196134600227078144               Thanks Eric! https://t.co/6Ai7bqto3P  \n",
       "1196134448183566336  RT @EricTrump: I hope no one who serves our co...  \n",
       "1196134298325266432  RT @EricTrump: Trump Washington D.C! @TrumpDC ...  "
      ]
     },
     "execution_count": 144,
     "metadata": {},
     "output_type": "execute_result"
    }
   ],
   "source": [
    "trump_tweets.head()"
   ]
  },
  {
   "cell_type": "code",
   "execution_count": 145,
   "metadata": {},
   "outputs": [
    {
     "name": "stdout",
     "output_type": "stream",
     "text": [
      "number of tweets from iPhone + Android:\t18599\n"
     ]
    }
   ],
   "source": [
    "# remove rows that aren't iPhone/Android\n",
    "trump_tweets = trump_tweets[trump_tweets.source.isin(['Twitter for Android', 'Twitter for iPhone'])]\n",
    "print('number of tweets from iPhone + Android:\\t%d' % trump_tweets.shape[0])"
   ]
  },
  {
   "cell_type": "code",
   "execution_count": 146,
   "metadata": {},
   "outputs": [
    {
     "data": {
      "text/html": [
       "<div>\n",
       "<style scoped>\n",
       "    .dataframe tbody tr th:only-of-type {\n",
       "        vertical-align: middle;\n",
       "    }\n",
       "\n",
       "    .dataframe tbody tr th {\n",
       "        vertical-align: top;\n",
       "    }\n",
       "\n",
       "    .dataframe thead th {\n",
       "        text-align: right;\n",
       "    }\n",
       "</style>\n",
       "<table border=\"1\" class=\"dataframe\">\n",
       "  <thead>\n",
       "    <tr style=\"text-align: right;\">\n",
       "      <th></th>\n",
       "      <th>created_at</th>\n",
       "      <th>favorite_count</th>\n",
       "      <th>is_retweet</th>\n",
       "      <th>retweet_count</th>\n",
       "      <th>source</th>\n",
       "      <th>text</th>\n",
       "    </tr>\n",
       "    <tr>\n",
       "      <th>id_str</th>\n",
       "      <th></th>\n",
       "      <th></th>\n",
       "      <th></th>\n",
       "      <th></th>\n",
       "      <th></th>\n",
       "      <th></th>\n",
       "    </tr>\n",
       "  </thead>\n",
       "  <tbody>\n",
       "    <tr>\n",
       "      <th>1196148537525977088</th>\n",
       "      <td>2019-11-17 19:30:09</td>\n",
       "      <td>8670</td>\n",
       "      <td>0.0</td>\n",
       "      <td>2663</td>\n",
       "      <td>Twitter for iPhone</td>\n",
       "      <td>.@SteveScalise blew the nasty &amp;amp; obnoxious ...</td>\n",
       "    </tr>\n",
       "    <tr>\n",
       "      <th>1196147508445163520</th>\n",
       "      <td>2019-11-17 19:26:04</td>\n",
       "      <td>2384</td>\n",
       "      <td>0.0</td>\n",
       "      <td>789</td>\n",
       "      <td>Twitter for iPhone</td>\n",
       "      <td>.@SteveScalese blew the nasty &amp;amp; obnoxious ...</td>\n",
       "    </tr>\n",
       "    <tr>\n",
       "      <th>1196134600227078144</th>\n",
       "      <td>2019-11-17 18:34:46</td>\n",
       "      <td>14897</td>\n",
       "      <td>0.0</td>\n",
       "      <td>4349</td>\n",
       "      <td>Twitter for iPhone</td>\n",
       "      <td>Thanks Eric! https://t.co/6Ai7bqto3P</td>\n",
       "    </tr>\n",
       "    <tr>\n",
       "      <th>1196134448183566336</th>\n",
       "      <td>2019-11-17 18:34:10</td>\n",
       "      <td>0</td>\n",
       "      <td>1.0</td>\n",
       "      <td>16239</td>\n",
       "      <td>Twitter for iPhone</td>\n",
       "      <td>RT @EricTrump: I hope no one who serves our co...</td>\n",
       "    </tr>\n",
       "    <tr>\n",
       "      <th>1196134298325266432</th>\n",
       "      <td>2019-11-17 18:33:34</td>\n",
       "      <td>0</td>\n",
       "      <td>1.0</td>\n",
       "      <td>2505</td>\n",
       "      <td>Twitter for iPhone</td>\n",
       "      <td>RT @EricTrump: Trump Washington D.C! @TrumpDC ...</td>\n",
       "    </tr>\n",
       "  </tbody>\n",
       "</table>\n",
       "</div>"
      ],
      "text/plain": [
       "                             created_at  favorite_count  is_retweet  \\\n",
       "id_str                                                                \n",
       "1196148537525977088 2019-11-17 19:30:09            8670         0.0   \n",
       "1196147508445163520 2019-11-17 19:26:04            2384         0.0   \n",
       "1196134600227078144 2019-11-17 18:34:46           14897         0.0   \n",
       "1196134448183566336 2019-11-17 18:34:10               0         1.0   \n",
       "1196134298325266432 2019-11-17 18:33:34               0         1.0   \n",
       "\n",
       "                     retweet_count              source  \\\n",
       "id_str                                                   \n",
       "1196148537525977088           2663  Twitter for iPhone   \n",
       "1196147508445163520            789  Twitter for iPhone   \n",
       "1196134600227078144           4349  Twitter for iPhone   \n",
       "1196134448183566336          16239  Twitter for iPhone   \n",
       "1196134298325266432           2505  Twitter for iPhone   \n",
       "\n",
       "                                                                  text  \n",
       "id_str                                                                  \n",
       "1196148537525977088  .@SteveScalise blew the nasty &amp; obnoxious ...  \n",
       "1196147508445163520  .@SteveScalese blew the nasty &amp; obnoxious ...  \n",
       "1196134600227078144               Thanks Eric! https://t.co/6Ai7bqto3P  \n",
       "1196134448183566336  RT @EricTrump: I hope no one who serves our co...  \n",
       "1196134298325266432  RT @EricTrump: Trump Washington D.C! @TrumpDC ...  "
      ]
     },
     "execution_count": 146,
     "metadata": {},
     "output_type": "execute_result"
    }
   ],
   "source": [
    "trump_tweets.head()"
   ]
  },
  {
   "cell_type": "code",
   "execution_count": 147,
   "metadata": {},
   "outputs": [],
   "source": [
    "# extract target array\n",
    "target_array = trump_tweets.pop('source')"
   ]
  },
  {
   "cell_type": "code",
   "execution_count": 148,
   "metadata": {},
   "outputs": [],
   "source": [
    "del trump_tweets['created_at']"
   ]
  },
  {
   "cell_type": "code",
   "execution_count": 149,
   "metadata": {},
   "outputs": [],
   "source": [
    "trump_tweets.text = trump_tweets.text.astype(str)"
   ]
  },
  {
   "cell_type": "code",
   "execution_count": 150,
   "metadata": {},
   "outputs": [
    {
     "data": {
      "text/html": [
       "<div>\n",
       "<style scoped>\n",
       "    .dataframe tbody tr th:only-of-type {\n",
       "        vertical-align: middle;\n",
       "    }\n",
       "\n",
       "    .dataframe tbody tr th {\n",
       "        vertical-align: top;\n",
       "    }\n",
       "\n",
       "    .dataframe thead th {\n",
       "        text-align: right;\n",
       "    }\n",
       "</style>\n",
       "<table border=\"1\" class=\"dataframe\">\n",
       "  <thead>\n",
       "    <tr style=\"text-align: right;\">\n",
       "      <th></th>\n",
       "      <th>favorite_count</th>\n",
       "      <th>is_retweet</th>\n",
       "      <th>retweet_count</th>\n",
       "      <th>text</th>\n",
       "    </tr>\n",
       "    <tr>\n",
       "      <th>id_str</th>\n",
       "      <th></th>\n",
       "      <th></th>\n",
       "      <th></th>\n",
       "      <th></th>\n",
       "    </tr>\n",
       "  </thead>\n",
       "  <tbody>\n",
       "    <tr>\n",
       "      <th>1196148537525977088</th>\n",
       "      <td>8670</td>\n",
       "      <td>0.0</td>\n",
       "      <td>2663</td>\n",
       "      <td>.@SteveScalise blew the nasty &amp;amp; obnoxious ...</td>\n",
       "    </tr>\n",
       "    <tr>\n",
       "      <th>1196147508445163520</th>\n",
       "      <td>2384</td>\n",
       "      <td>0.0</td>\n",
       "      <td>789</td>\n",
       "      <td>.@SteveScalese blew the nasty &amp;amp; obnoxious ...</td>\n",
       "    </tr>\n",
       "    <tr>\n",
       "      <th>1196134600227078144</th>\n",
       "      <td>14897</td>\n",
       "      <td>0.0</td>\n",
       "      <td>4349</td>\n",
       "      <td>Thanks Eric! https://t.co/6Ai7bqto3P</td>\n",
       "    </tr>\n",
       "    <tr>\n",
       "      <th>1196134448183566336</th>\n",
       "      <td>0</td>\n",
       "      <td>1.0</td>\n",
       "      <td>16239</td>\n",
       "      <td>RT @EricTrump: I hope no one who serves our co...</td>\n",
       "    </tr>\n",
       "    <tr>\n",
       "      <th>1196134298325266432</th>\n",
       "      <td>0</td>\n",
       "      <td>1.0</td>\n",
       "      <td>2505</td>\n",
       "      <td>RT @EricTrump: Trump Washington D.C! @TrumpDC ...</td>\n",
       "    </tr>\n",
       "  </tbody>\n",
       "</table>\n",
       "</div>"
      ],
      "text/plain": [
       "                     favorite_count  is_retweet  retweet_count  \\\n",
       "id_str                                                           \n",
       "1196148537525977088            8670         0.0           2663   \n",
       "1196147508445163520            2384         0.0            789   \n",
       "1196134600227078144           14897         0.0           4349   \n",
       "1196134448183566336               0         1.0          16239   \n",
       "1196134298325266432               0         1.0           2505   \n",
       "\n",
       "                                                                  text  \n",
       "id_str                                                                  \n",
       "1196148537525977088  .@SteveScalise blew the nasty &amp; obnoxious ...  \n",
       "1196147508445163520  .@SteveScalese blew the nasty &amp; obnoxious ...  \n",
       "1196134600227078144               Thanks Eric! https://t.co/6Ai7bqto3P  \n",
       "1196134448183566336  RT @EricTrump: I hope no one who serves our co...  \n",
       "1196134298325266432  RT @EricTrump: Trump Washington D.C! @TrumpDC ...  "
      ]
     },
     "execution_count": 150,
     "metadata": {},
     "output_type": "execute_result"
    }
   ],
   "source": [
    "trump_tweets.head()"
   ]
  },
  {
   "cell_type": "code",
   "execution_count": 153,
   "metadata": {},
   "outputs": [],
   "source": [
    "trump_tweets = trump_tweets.text"
   ]
  },
  {
   "cell_type": "code",
   "execution_count": 154,
   "metadata": {},
   "outputs": [
    {
     "data": {
      "text/plain": [
       "id_str\n",
       "1196148537525977088    .@SteveScalise blew the nasty &amp; obnoxious ...\n",
       "1196147508445163520    .@SteveScalese blew the nasty &amp; obnoxious ...\n",
       "1196134600227078144                 Thanks Eric! https://t.co/6Ai7bqto3P\n",
       "1196134448183566336    RT @EricTrump: I hope no one who serves our co...\n",
       "1196134298325266432    RT @EricTrump: Trump Washington D.C! @TrumpDC ...\n",
       "Name: text, dtype: object"
      ]
     },
     "execution_count": 154,
     "metadata": {},
     "output_type": "execute_result"
    }
   ],
   "source": [
    "trump_tweets.head()"
   ]
  },
  {
   "cell_type": "code",
   "execution_count": 155,
   "metadata": {},
   "outputs": [],
   "source": [
    "# import data\n",
    "dataset = tf.data.Dataset.from_tensor_slices((trump_tweets.values, target_array.values))"
   ]
  },
  {
   "cell_type": "code",
   "execution_count": 156,
   "metadata": {},
   "outputs": [],
   "source": [
    "# shuffle\n",
    "train_dataset = dataset.shuffle(len(trump_tweets)).batch(1)"
   ]
  },
  {
   "cell_type": "code",
   "execution_count": null,
   "metadata": {},
   "outputs": [],
   "source": []
  },
  {
   "cell_type": "code",
   "execution_count": null,
   "metadata": {},
   "outputs": [],
   "source": []
  }
 ],
 "metadata": {
  "kernelspec": {
   "display_name": "Python 3",
   "language": "python",
   "name": "python3"
  },
  "language_info": {
   "codemirror_mode": {
    "name": "ipython",
    "version": 3
   },
   "file_extension": ".py",
   "mimetype": "text/x-python",
   "name": "python",
   "nbconvert_exporter": "python",
   "pygments_lexer": "ipython3",
   "version": "3.7.3"
  }
 },
 "nbformat": 4,
 "nbformat_minor": 2
}
